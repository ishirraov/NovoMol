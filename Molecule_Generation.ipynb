{
  "nbformat": 4,
  "nbformat_minor": 0,
  "metadata": {
    "colab": {
      "provenance": []
    },
    "kernelspec": {
      "name": "python3",
      "display_name": "Python 3"
    },
    "language_info": {
      "name": "python"
    },
    "gpuClass": "standard"
  },
  "cells": [
    {
      "cell_type": "code",
      "execution_count": null,
      "metadata": {
        "colab": {
          "base_uri": "https://localhost:8080/"
        },
        "id": "upIWUdLincum",
        "outputId": "7034f7ac-0845-423a-858e-a9794161a63d"
      },
      "outputs": [
        {
          "output_type": "stream",
          "name": "stdout",
          "text": [
            "Colab only includes TensorFlow 2.x; %tensorflow_version has no effect.\n",
            "TensorFlow version: 2.8.2\n"
          ]
        }
      ],
      "source": [
        "# import core libraries\n",
        "import sys\n",
        "import os\n",
        "import pandas as pd\n",
        "import numpy as np\n",
        "import json\n",
        "from sklearn.model_selection import train_test_split\n",
        "sys.path.append('/usr/local/lib/python3.7/site-packages/')\n",
        "import random as rn\n",
        "import matplotlib.pyplot as plt\n",
        "%matplotlib inline\n",
        "\n",
        "%tensorflow_version 2.x\n",
        "import tensorflow as tf\n",
        "print(\"TensorFlow version:\", tf.__version__)"
      ]
    },
    {
      "cell_type": "code",
      "source": [
        "pip install rdkit"
      ],
      "metadata": {
        "colab": {
          "base_uri": "https://localhost:8080/"
        },
        "id": "n_UM0gIeFSnu",
        "outputId": "c5273b7b-9b18-4f79-bf4d-9798a7dc00d2"
      },
      "execution_count": null,
      "outputs": [
        {
          "output_type": "stream",
          "name": "stdout",
          "text": [
            "Looking in indexes: https://pypi.org/simple, https://us-python.pkg.dev/colab-wheels/public/simple/\n",
            "Collecting rdkit\n",
            "  Downloading rdkit-2022.3.5-cp37-cp37m-manylinux_2_17_x86_64.manylinux2014_x86_64.whl (36.8 MB)\n",
            "\u001b[K     |████████████████████████████████| 36.8 MB 190 kB/s \n",
            "\u001b[?25hRequirement already satisfied: Pillow in /usr/local/lib/python3.7/dist-packages (from rdkit) (7.1.2)\n",
            "Requirement already satisfied: numpy in /usr/local/lib/python3.7/dist-packages (from rdkit) (1.21.6)\n",
            "Installing collected packages: rdkit\n",
            "Successfully installed rdkit-2022.3.5\n"
          ]
        }
      ]
    },
    {
      "cell_type": "code",
      "source": [
        "# load Keras libraries\n",
        "from rdkit import Chem\n",
        "from rdkit.Chem import Draw, Descriptors\n",
        "\n",
        "from tensorflow.keras.models import Model, load_model\n",
        "from tensorflow.keras.layers import Input, LSTM, Dense, Dropout, Concatenate\n",
        "from tensorflow.keras.initializers import RandomNormal\n",
        "from tensorflow.keras import regularizers\n",
        "from tensorflow.keras.optimizers import Adam\n",
        "from tensorflow.keras.callbacks import ReduceLROnPlateau, ModelCheckpoint, TensorBoard\n",
        "from tensorflow.keras.utils import Sequence"
      ],
      "metadata": {
        "id": "RoLdVcJvo7Ab"
      },
      "execution_count": null,
      "outputs": []
    },
    {
      "cell_type": "code",
      "source": [
        "# enable GPU processing\n",
        "device_name = tf.test.gpu_device_name()\n",
        "if device_name != '/device:GPU:0':\n",
        "  raise SystemError('GPU device not found')\n",
        "print('Found GPU at: {}'.format(device_name))\n",
        "gpu_info = !nvidia-smi\n",
        "gpu_info = '\\n'.join(gpu_info)\n",
        "if gpu_info.find('failed') >= 0:\n",
        "  print('Select the Runtime → \"Change runtime type\" menu to enable a GPU accelerator, ')\n",
        "  print('and then re-execute this cell.')\n",
        "else:\n",
        "  print(gpu_info)"
      ],
      "metadata": {
        "colab": {
          "base_uri": "https://localhost:8080/",
          "height": 235
        },
        "id": "TXhCsjWIo81R",
        "outputId": "5f3f3e2f-7b11-4cdb-dbf0-72edfe946616"
      },
      "execution_count": null,
      "outputs": [
        {
          "output_type": "error",
          "ename": "SystemError",
          "evalue": "ignored",
          "traceback": [
            "\u001b[0;31m---------------------------------------------------------------------------\u001b[0m",
            "\u001b[0;31mSystemError\u001b[0m                               Traceback (most recent call last)",
            "\u001b[0;32m<ipython-input-5-bd78deaf2bb5>\u001b[0m in \u001b[0;36m<module>\u001b[0;34m\u001b[0m\n\u001b[1;32m      2\u001b[0m \u001b[0mdevice_name\u001b[0m \u001b[0;34m=\u001b[0m \u001b[0mtf\u001b[0m\u001b[0;34m.\u001b[0m\u001b[0mtest\u001b[0m\u001b[0;34m.\u001b[0m\u001b[0mgpu_device_name\u001b[0m\u001b[0;34m(\u001b[0m\u001b[0;34m)\u001b[0m\u001b[0;34m\u001b[0m\u001b[0;34m\u001b[0m\u001b[0m\n\u001b[1;32m      3\u001b[0m \u001b[0;32mif\u001b[0m \u001b[0mdevice_name\u001b[0m \u001b[0;34m!=\u001b[0m \u001b[0;34m'/device:GPU:0'\u001b[0m\u001b[0;34m:\u001b[0m\u001b[0;34m\u001b[0m\u001b[0;34m\u001b[0m\u001b[0m\n\u001b[0;32m----> 4\u001b[0;31m   \u001b[0;32mraise\u001b[0m \u001b[0mSystemError\u001b[0m\u001b[0;34m(\u001b[0m\u001b[0;34m'GPU device not found'\u001b[0m\u001b[0;34m)\u001b[0m\u001b[0;34m\u001b[0m\u001b[0;34m\u001b[0m\u001b[0m\n\u001b[0m\u001b[1;32m      5\u001b[0m \u001b[0mprint\u001b[0m\u001b[0;34m(\u001b[0m\u001b[0;34m'Found GPU at: {}'\u001b[0m\u001b[0;34m.\u001b[0m\u001b[0mformat\u001b[0m\u001b[0;34m(\u001b[0m\u001b[0mdevice_name\u001b[0m\u001b[0;34m)\u001b[0m\u001b[0;34m)\u001b[0m\u001b[0;34m\u001b[0m\u001b[0;34m\u001b[0m\u001b[0m\n\u001b[1;32m      6\u001b[0m \u001b[0mgpu_info\u001b[0m \u001b[0;34m=\u001b[0m \u001b[0mget_ipython\u001b[0m\u001b[0;34m(\u001b[0m\u001b[0;34m)\u001b[0m\u001b[0;34m.\u001b[0m\u001b[0mgetoutput\u001b[0m\u001b[0;34m(\u001b[0m\u001b[0;34m'nvidia-smi'\u001b[0m\u001b[0;34m)\u001b[0m\u001b[0;34m\u001b[0m\u001b[0;34m\u001b[0m\u001b[0m\n",
            "\u001b[0;31mSystemError\u001b[0m: GPU device not found"
          ]
        }
      ]
    },
    {
      "cell_type": "code",
      "source": [
        "# set random seed\n",
        "seed = 777\n",
        "np.random.seed(seed)\n",
        "rn.seed(seed)\n",
        "np.seterr(divide='ignore')"
      ],
      "metadata": {
        "colab": {
          "base_uri": "https://localhost:8080/"
        },
        "id": "kQThGEfzFYvJ",
        "outputId": "ffe0c474-df3c-41e1-9bb2-96a39375cfa4"
      },
      "execution_count": null,
      "outputs": [
        {
          "output_type": "execute_result",
          "data": {
            "text/plain": [
              "{'divide': 'warn', 'over': 'warn', 'under': 'ignore', 'invalid': 'warn'}"
            ]
          },
          "metadata": {},
          "execution_count": 6
        }
      ]
    },
    {
      "cell_type": "code",
      "source": [
        "# load the model\n",
        "model_file = '/content/QED Run 1 - 99.86 Test Acc.h5'\n",
        "model = load_model(model_file)\n",
        "model.summary()"
      ],
      "metadata": {
        "colab": {
          "base_uri": "https://localhost:8080/"
        },
        "id": "ucwe-BlfFZ4_",
        "outputId": "ee52e173-8dc4-4d38-8230-4e551f58cfd6"
      },
      "execution_count": null,
      "outputs": [
        {
          "output_type": "stream",
          "name": "stdout",
          "text": [
            "Model: \"model_1\"\n",
            "__________________________________________________________________________________________________\n",
            " Layer (type)                   Output Shape         Param #     Connected to                     \n",
            "==================================================================================================\n",
            " input_3 (InputLayer)           [(None, 100, 45)]    0           []                               \n",
            "                                                                                                  \n",
            " lstm_2 (LSTM)                  [(None, 256),        309248      ['input_3[0][0]']                \n",
            "                                 (None, 256),                                                     \n",
            "                                 (None, 256)]                                                     \n",
            "                                                                                                  \n",
            " concatenate_1 (Concatenate)    (None, 512)          0           ['lstm_2[0][1]',                 \n",
            "                                                                  'lstm_2[0][2]']                 \n",
            "                                                                                                  \n",
            " dense_4 (Dense)                (None, 128)          65664       ['concatenate_1[0][0]']          \n",
            "                                                                                                  \n",
            " input_4 (InputLayer)           [(None, 100, 45)]    0           []                               \n",
            "                                                                                                  \n",
            " dense_5 (Dense)                (None, 256)          33024       ['dense_4[0][0]']                \n",
            "                                                                                                  \n",
            " dense_6 (Dense)                (None, 256)          33024       ['dense_4[0][0]']                \n",
            "                                                                                                  \n",
            " lstm_3 (LSTM)                  (None, 100, 256)     309248      ['input_4[0][0]',                \n",
            "                                                                  'dense_5[0][0]',                \n",
            "                                                                  'dense_6[0][0]']                \n",
            "                                                                                                  \n",
            " dense_7 (Dense)                (None, 100, 45)      11565       ['lstm_3[0][0]']                 \n",
            "                                                                                                  \n",
            "==================================================================================================\n",
            "Total params: 761,773\n",
            "Trainable params: 761,773\n",
            "Non-trainable params: 0\n",
            "__________________________________________________________________________________________________\n"
          ]
        }
      ]
    },
    {
      "cell_type": "code",
      "source": [
        "# create data load functions\n",
        "def load_data(data):\n",
        "    with open(data, 'r') as f:\n",
        "        smiles = [r.rstrip() for r in f]\n",
        "    return np.array(smiles)\n",
        "\n",
        "def load_dictionaries(input_dict):\n",
        "    with open(input_dict, 'r') as fp:\n",
        "        new_dict = json.load(fp)\n",
        "    return new_dict"
      ],
      "metadata": {
        "id": "DaQ3doYsFcrq"
      },
      "execution_count": null,
      "outputs": []
    },
    {
      "cell_type": "code",
      "source": [
        "# load transfer learning dataset\n",
        "smifile = '/content/nextgen_smiles.smi.txt'\n",
        "data = load_data(smifile)\n",
        "print(\"Training dataset shape:\", data.shape)\n",
        "print(\"Sample training smile: \\n\", data[2])"
      ],
      "metadata": {
        "colab": {
          "base_uri": "https://localhost:8080/"
        },
        "id": "i_MYQtITFe5k",
        "outputId": "1e4bc636-a8b2-4f95-ca9a-95a5394c7f47"
      },
      "execution_count": null,
      "outputs": [
        {
          "output_type": "stream",
          "name": "stdout",
          "text": [
            "Training dataset shape: (100,)\n",
            "Sample training smile: \n",
            " NC1CC(O)C23CCC1C2Cc1c2cc[n+](nc(cnc1C=O)C3)CC1=CC=C(C=C2)N(N)O1\n"
          ]
        }
      ]
    },
    {
      "cell_type": "code",
      "source": [
        "# load the Python dictionaries that map characters-to-integers and integers-to-characters\n",
        "d1 = '/content/char_to_int (1).json'\n",
        "d2 = '/content/int_to_char (1).json'\n",
        "char_to_int = load_dictionaries(d1)\n",
        "int_to_char = load_dictionaries(d2)\n",
        "n_vocab = len(char_to_int)\n",
        "print(\"Character set vocabulary length:\", n_vocab)\n",
        "print(\"Dictionary mapping characters-to-integers:\\n\", char_to_int)\n",
        "print(\"Dictionary mapping integers-to-characters:\\n\", int_to_char)"
      ],
      "metadata": {
        "colab": {
          "base_uri": "https://localhost:8080/"
        },
        "id": "MFeucqutFgXU",
        "outputId": "577659cc-7fb8-4f98-c7bf-00452939ef7c"
      },
      "execution_count": null,
      "outputs": [
        {
          "output_type": "stream",
          "name": "stdout",
          "text": [
            "Character set vocabulary length: 45\n",
            "Dictionary mapping characters-to-integers:\n",
            " {'!': 0, '#': 1, '(': 2, ')': 3, '+': 4, '-': 5, '.': 6, '/': 7, '1': 8, '2': 9, '3': 10, '4': 11, '5': 12, '6': 13, '7': 14, '8': 15, '=': 16, '@': 17, 'A': 18, 'B': 19, 'C': 20, 'E': 21, 'F': 22, 'H': 23, 'I': 24, 'K': 25, 'L': 26, 'M': 27, 'N': 28, 'O': 29, 'P': 30, 'S': 31, 'Z': 32, '[': 33, '\\\\': 34, ']': 35, 'a': 36, 'c': 37, 'g': 38, 'i': 39, 'l': 40, 'n': 41, 'o': 42, 'r': 43, 's': 44}\n",
            "Dictionary mapping integers-to-characters:\n",
            " {'0': '!', '1': '#', '2': '(', '3': ')', '4': '+', '5': '-', '6': '.', '7': '/', '8': '1', '9': '2', '10': '3', '11': '4', '12': '5', '13': '6', '14': '7', '15': '8', '16': '=', '17': '@', '18': 'A', '19': 'B', '20': 'C', '21': 'E', '22': 'F', '23': 'H', '24': 'I', '25': 'K', '26': 'L', '27': 'M', '28': 'N', '29': 'O', '30': 'P', '31': 'S', '32': 'Z', '33': '[', '34': '\\\\', '35': ']', '36': 'a', '37': 'c', '38': 'g', '39': 'i', '40': 'l', '41': 'n', '42': 'o', '43': 'r', '44': 's'}\n"
          ]
        }
      ]
    },
    {
      "cell_type": "code",
      "source": [
        "\n",
        "# create a function to turn the dataset into a supervised problem, add the beginning and ending character markers,\n",
        "# add padding for constant sequence length, and turn the sequence into a sequence of one-hot vectors\n",
        "def vectorize(smiles, embed, n_vocab):\n",
        "    one_hot = np.zeros((smiles.shape[0], embed, n_vocab), dtype=np.int8)\n",
        "    for i, smile in enumerate(smiles):\n",
        "        # encode the start\n",
        "        one_hot[i,0,char_to_int[\"!\"]] = 1\n",
        "        #encode the smiles characters\n",
        "        for j, c in enumerate(smile):\n",
        "            one_hot[i,j+1,char_to_int[c]] = 1\n",
        "        # encode the end of the smiles string\n",
        "        one_hot[i,len(smile)+1:,char_to_int[\"E\"]] = 1\n",
        "    # return two items, one for input and one for output\n",
        "    return one_hot[:,0:-1,:], one_hot[:,1:,:]"
      ],
      "metadata": {
        "id": "xa1QggngFh16"
      },
      "execution_count": null,
      "outputs": []
    },
    {
      "cell_type": "code",
      "source": [
        "# create our X & y dataset\n",
        "embed = 101\n",
        "X_train, y_train = vectorize(data, embed, n_vocab)\n",
        "print(\"Training input shape:\", X_train.shape)\n",
        "print(\"Training output shape:\", y_train.shape)"
      ],
      "metadata": {
        "colab": {
          "base_uri": "https://localhost:8080/"
        },
        "id": "wMg1TjKDFjvp",
        "outputId": "8490633f-77c9-4061-f765-1d375ee77708"
      },
      "execution_count": null,
      "outputs": [
        {
          "output_type": "stream",
          "name": "stdout",
          "text": [
            "Training input shape: (100, 100, 45)\n",
            "Training output shape: (100, 100, 45)\n"
          ]
        }
      ]
    },
    {
      "cell_type": "code",
      "source": [
        "# train the model on the transfer learning dataset\n",
        "batch_size = 16\n",
        "nb_epochs = 225 // 4\n",
        "model.fit([X_train, X_train], y_train, epochs=nb_epochs, batch_size=batch_size)"
      ],
      "metadata": {
        "colab": {
          "base_uri": "https://localhost:8080/"
        },
        "id": "OSzM-DZ1Fll0",
        "outputId": "dac3f333-6eb5-46bd-e6a4-cfa749bd285e"
      },
      "execution_count": null,
      "outputs": [
        {
          "output_type": "stream",
          "name": "stdout",
          "text": [
            "Epoch 1/56\n",
            "7/7 [==============================] - 3s 22ms/step - loss: 2.9954 - acc: 0.7092\n",
            "Epoch 2/56\n",
            "7/7 [==============================] - 0s 19ms/step - loss: 2.5015 - acc: 0.6911\n",
            "Epoch 3/56\n",
            "7/7 [==============================] - 0s 16ms/step - loss: 1.6218 - acc: 0.7109\n",
            "Epoch 4/56\n",
            "7/7 [==============================] - 0s 15ms/step - loss: 1.1664 - acc: 0.7435\n",
            "Epoch 5/56\n",
            "7/7 [==============================] - 0s 14ms/step - loss: 0.8673 - acc: 0.7811\n",
            "Epoch 6/56\n",
            "7/7 [==============================] - 0s 14ms/step - loss: 0.6472 - acc: 0.8182\n",
            "Epoch 7/56\n",
            "7/7 [==============================] - 0s 16ms/step - loss: 0.5115 - acc: 0.8431\n",
            "Epoch 8/56\n",
            "7/7 [==============================] - 0s 16ms/step - loss: 0.4049 - acc: 0.8774\n",
            "Epoch 9/56\n",
            "7/7 [==============================] - 0s 15ms/step - loss: 0.3372 - acc: 0.8973\n",
            "Epoch 10/56\n",
            "7/7 [==============================] - 0s 15ms/step - loss: 0.2708 - acc: 0.9174\n",
            "Epoch 11/56\n",
            "7/7 [==============================] - 0s 14ms/step - loss: 0.2277 - acc: 0.9316\n",
            "Epoch 12/56\n",
            "7/7 [==============================] - 0s 14ms/step - loss: 0.1850 - acc: 0.9493\n",
            "Epoch 13/56\n",
            "7/7 [==============================] - 0s 14ms/step - loss: 0.1500 - acc: 0.9627\n",
            "Epoch 14/56\n",
            "7/7 [==============================] - 0s 14ms/step - loss: 0.1267 - acc: 0.9707\n",
            "Epoch 15/56\n",
            "7/7 [==============================] - 0s 14ms/step - loss: 0.1053 - acc: 0.9795\n",
            "Epoch 16/56\n",
            "7/7 [==============================] - 0s 13ms/step - loss: 0.0886 - acc: 0.9843\n",
            "Epoch 17/56\n",
            "7/7 [==============================] - 0s 13ms/step - loss: 0.0734 - acc: 0.9886\n",
            "Epoch 18/56\n",
            "7/7 [==============================] - 0s 14ms/step - loss: 0.0618 - acc: 0.9932\n",
            "Epoch 19/56\n",
            "7/7 [==============================] - 0s 14ms/step - loss: 0.0523 - acc: 0.9955\n",
            "Epoch 20/56\n",
            "7/7 [==============================] - 0s 15ms/step - loss: 0.0444 - acc: 0.9965\n",
            "Epoch 21/56\n",
            "7/7 [==============================] - 0s 15ms/step - loss: 0.0385 - acc: 0.9980\n",
            "Epoch 22/56\n",
            "7/7 [==============================] - 0s 14ms/step - loss: 0.0337 - acc: 0.9985\n",
            "Epoch 23/56\n",
            "7/7 [==============================] - 0s 14ms/step - loss: 0.0294 - acc: 0.9989\n",
            "Epoch 24/56\n",
            "7/7 [==============================] - 0s 14ms/step - loss: 0.0277 - acc: 0.9989\n",
            "Epoch 25/56\n",
            "7/7 [==============================] - 0s 14ms/step - loss: 0.0241 - acc: 0.9994\n",
            "Epoch 26/56\n",
            "7/7 [==============================] - 0s 14ms/step - loss: 0.0212 - acc: 0.9997\n",
            "Epoch 27/56\n",
            "7/7 [==============================] - 0s 15ms/step - loss: 0.0190 - acc: 0.9996\n",
            "Epoch 28/56\n",
            "7/7 [==============================] - 0s 14ms/step - loss: 0.0173 - acc: 0.9997\n",
            "Epoch 29/56\n",
            "7/7 [==============================] - 0s 15ms/step - loss: 0.0156 - acc: 0.9998\n",
            "Epoch 30/56\n",
            "7/7 [==============================] - 0s 14ms/step - loss: 0.0143 - acc: 0.9999\n",
            "Epoch 31/56\n",
            "7/7 [==============================] - 0s 14ms/step - loss: 0.0132 - acc: 0.9999\n",
            "Epoch 32/56\n",
            "7/7 [==============================] - 0s 15ms/step - loss: 0.0124 - acc: 0.9999\n",
            "Epoch 33/56\n",
            "7/7 [==============================] - 0s 15ms/step - loss: 0.0116 - acc: 0.9999\n",
            "Epoch 34/56\n",
            "7/7 [==============================] - 0s 14ms/step - loss: 0.0109 - acc: 0.9999\n",
            "Epoch 35/56\n",
            "7/7 [==============================] - 0s 14ms/step - loss: 0.0103 - acc: 0.9999\n",
            "Epoch 36/56\n",
            "7/7 [==============================] - 0s 14ms/step - loss: 0.0097 - acc: 0.9999\n",
            "Epoch 37/56\n",
            "7/7 [==============================] - 0s 15ms/step - loss: 0.0092 - acc: 0.9999\n",
            "Epoch 38/56\n",
            "7/7 [==============================] - 0s 14ms/step - loss: 0.0088 - acc: 0.9999\n",
            "Epoch 39/56\n",
            "7/7 [==============================] - 0s 14ms/step - loss: 0.0083 - acc: 0.9999\n",
            "Epoch 40/56\n",
            "7/7 [==============================] - 0s 14ms/step - loss: 0.0079 - acc: 1.0000\n",
            "Epoch 41/56\n",
            "7/7 [==============================] - 0s 14ms/step - loss: 0.0076 - acc: 1.0000\n",
            "Epoch 42/56\n",
            "7/7 [==============================] - 0s 13ms/step - loss: 0.0072 - acc: 1.0000\n",
            "Epoch 43/56\n",
            "7/7 [==============================] - 0s 14ms/step - loss: 0.0069 - acc: 1.0000\n",
            "Epoch 44/56\n",
            "7/7 [==============================] - 0s 15ms/step - loss: 0.0067 - acc: 1.0000\n",
            "Epoch 45/56\n",
            "7/7 [==============================] - 0s 15ms/step - loss: 0.0064 - acc: 1.0000\n",
            "Epoch 46/56\n",
            "7/7 [==============================] - 0s 15ms/step - loss: 0.0062 - acc: 1.0000\n",
            "Epoch 47/56\n",
            "7/7 [==============================] - 0s 15ms/step - loss: 0.0059 - acc: 1.0000\n",
            "Epoch 48/56\n",
            "7/7 [==============================] - 0s 15ms/step - loss: 0.0057 - acc: 1.0000\n",
            "Epoch 49/56\n",
            "7/7 [==============================] - 0s 14ms/step - loss: 0.0055 - acc: 1.0000\n",
            "Epoch 50/56\n",
            "7/7 [==============================] - 0s 14ms/step - loss: 0.0053 - acc: 1.0000\n",
            "Epoch 51/56\n",
            "7/7 [==============================] - 0s 14ms/step - loss: 0.0052 - acc: 1.0000\n",
            "Epoch 52/56\n",
            "7/7 [==============================] - 0s 13ms/step - loss: 0.0050 - acc: 1.0000\n",
            "Epoch 53/56\n",
            "7/7 [==============================] - 0s 13ms/step - loss: 0.0048 - acc: 1.0000\n",
            "Epoch 54/56\n",
            "7/7 [==============================] - 0s 14ms/step - loss: 0.0047 - acc: 1.0000\n",
            "Epoch 55/56\n",
            "7/7 [==============================] - 0s 14ms/step - loss: 0.0046 - acc: 1.0000\n",
            "Epoch 56/56\n",
            "7/7 [==============================] - 0s 15ms/step - loss: 0.0044 - acc: 1.0000\n"
          ]
        },
        {
          "output_type": "execute_result",
          "data": {
            "text/plain": [
              "<keras.callbacks.History at 0x7f63c205e350>"
            ]
          },
          "metadata": {},
          "execution_count": 81
        }
      ]
    },
    {
      "cell_type": "code",
      "source": [
        "# # save our transfer learning model & weights\n",
        "# mod_file = '/drive/My Drive/chem_data/LSTM_transfer_model.h5'\n",
        "# model.save(mod_file)\n",
        "# print(\"Model Saved\")"
      ],
      "metadata": {
        "id": "ZcwyNHrjhNri"
      },
      "execution_count": null,
      "outputs": []
    },
    {
      "cell_type": "code",
      "source": [
        "#TEMPORARY CODE\n",
        "model.load_weights('/content/QED Run 1 - 99.86 Test Acc.h5')\n",
        "#model.load_weights('/content/LSTM_transfer_model.h5')"
      ],
      "metadata": {
        "id": "BA821753F3Z-"
      },
      "execution_count": null,
      "outputs": []
    },
    {
      "cell_type": "code",
      "source": [
        "\n",
        "# create the encoder model from the previously trained model\n",
        "encoder_model = Model(inputs=model.layers[0].input, outputs=model.layers[3].output)\n",
        "encoder_model.summary()"
      ],
      "metadata": {
        "colab": {
          "base_uri": "https://localhost:8080/"
        },
        "id": "JgZTh9t8Fng0",
        "outputId": "a6bd90bc-a387-425f-91a5-11091a805301"
      },
      "execution_count": null,
      "outputs": [
        {
          "output_type": "stream",
          "name": "stdout",
          "text": [
            "Model: \"model\"\n",
            "__________________________________________________________________________________________________\n",
            " Layer (type)                   Output Shape         Param #     Connected to                     \n",
            "==================================================================================================\n",
            " input_3 (InputLayer)           [(None, 100, 45)]    0           []                               \n",
            "                                                                                                  \n",
            " lstm_2 (LSTM)                  [(None, 256),        309248      ['input_3[0][0]']                \n",
            "                                 (None, 256),                                                     \n",
            "                                 (None, 256)]                                                     \n",
            "                                                                                                  \n",
            " concatenate_1 (Concatenate)    (None, 512)          0           ['lstm_2[0][1]',                 \n",
            "                                                                  'lstm_2[0][2]']                 \n",
            "                                                                                                  \n",
            " dense_4 (Dense)                (None, 128)          65664       ['concatenate_1[0][0]']          \n",
            "                                                                                                  \n",
            "==================================================================================================\n",
            "Total params: 374,912\n",
            "Trainable params: 374,912\n",
            "Non-trainable params: 0\n",
            "__________________________________________________________________________________________________\n"
          ]
        }
      ]
    },
    {
      "cell_type": "code",
      "source": [
        "\n",
        "# create a model for mapping from the latent space to the input states of the decoder LSTM model\n",
        "latent_input = Input(shape=(128, ))\n",
        "state_h = model.layers[5](latent_input)\n",
        "state_c = model.layers[6](latent_input)\n",
        "latent_to_states_model = Model(latent_input, [state_h, state_c])\n",
        "latent_to_states_model.summary()"
      ],
      "metadata": {
        "colab": {
          "base_uri": "https://localhost:8080/"
        },
        "id": "IC2G9vB9FsIz",
        "outputId": "167ab4c3-bda4-4249-c6f2-024b0e6723b8"
      },
      "execution_count": null,
      "outputs": [
        {
          "output_type": "stream",
          "name": "stdout",
          "text": [
            "Model: \"model_1\"\n",
            "__________________________________________________________________________________________________\n",
            " Layer (type)                   Output Shape         Param #     Connected to                     \n",
            "==================================================================================================\n",
            " input_1 (InputLayer)           [(None, 128)]        0           []                               \n",
            "                                                                                                  \n",
            " dense_5 (Dense)                (None, 256)          33024       ['input_1[0][0]']                \n",
            "                                                                                                  \n",
            " dense_6 (Dense)                (None, 256)          33024       ['input_1[0][0]']                \n",
            "                                                                                                  \n",
            "==================================================================================================\n",
            "Total params: 66,048\n",
            "Trainable params: 66,048\n",
            "Non-trainable params: 0\n",
            "__________________________________________________________________________________________________\n"
          ]
        }
      ]
    },
    {
      "cell_type": "code",
      "source": [
        "# define the stateful decoder model\n",
        "decoder_inputs = Input(batch_shape=(1, 1, 45))\n",
        "decoder_lstm = LSTM(256, return_sequences=True, stateful=True)(decoder_inputs)\n",
        "decoder_outputs = Dense(45, activation='softmax')(decoder_lstm)\n",
        "gen_model = Model(decoder_inputs, decoder_outputs)"
      ],
      "metadata": {
        "id": "FomttnV0FuTn"
      },
      "execution_count": null,
      "outputs": []
    },
    {
      "cell_type": "code",
      "source": [
        "# transfer the weights from the transfer learning model to our generative model\n",
        "for i in range(1,3):\n",
        "    gen_model.layers[i].set_weights(model.layers[i+6].get_weights())\n",
        "#gen_model.save(\"/drive/My Drive/chem_data/gen_model.h5\")\n",
        "gen_model.summary()"
      ],
      "metadata": {
        "colab": {
          "base_uri": "https://localhost:8080/"
        },
        "id": "ZC1vmi8EFwdj",
        "outputId": "08baf39a-c438-4d77-b9b1-895bd475fccb"
      },
      "execution_count": null,
      "outputs": [
        {
          "output_type": "stream",
          "name": "stdout",
          "text": [
            "Model: \"model_2\"\n",
            "_________________________________________________________________\n",
            " Layer (type)                Output Shape              Param #   \n",
            "=================================================================\n",
            " input_2 (InputLayer)        [(1, 1, 45)]              0         \n",
            "                                                                 \n",
            " lstm (LSTM)                 (1, 1, 256)               309248    \n",
            "                                                                 \n",
            " dense (Dense)               (1, 1, 45)                11565     \n",
            "                                                                 \n",
            "=================================================================\n",
            "Total params: 320,813\n",
            "Trainable params: 320,813\n",
            "Non-trainable params: 0\n",
            "_________________________________________________________________\n"
          ]
        }
      ]
    },
    {
      "cell_type": "code",
      "source": [
        "\n",
        "# create our Softmax sampling function\n",
        "def sample_with_temp(preds, sampling_temp):\n",
        "    streched = np.log(preds) / sampling_temp\n",
        "    streched_probs = np.exp(streched) / np.sum(np.exp(streched))\n",
        "    return np.random.choice(range(len(streched)), p=streched_probs)"
      ],
      "metadata": {
        "id": "1D0zDhMFFzUR"
      },
      "execution_count": null,
      "outputs": []
    },
    {
      "cell_type": "code",
      "source": [
        "# create a function to generate new smiles from the latent space\n",
        "def sample_smiles(latent, n_vocab, sampling_temp):\n",
        "    #decode the latent states and set the initial state of the LSTM cells\n",
        "    states = latent_to_states_model.predict(latent)\n",
        "    gen_model.layers[1].reset_states(states=[states[0], states[1]])\n",
        "    # define the input character\n",
        "    startidx = char_to_int[\"!\"]\n",
        "    samplevec = np.zeros((1,1,n_vocab))\n",
        "    samplevec[0,0,startidx] = 1\n",
        "    sequence = \"\"\n",
        "    # loop to predict the next smiles character\n",
        "    for i in range(101):\n",
        "        preds = gen_model.predict(samplevec)[0][-1]\n",
        "        if sampling_temp == 1.0:\n",
        "          sampleidx = np.argmax(preds)\n",
        "        else:\n",
        "          sampleidx = sample_with_temp(preds, sampling_temp)\n",
        "        samplechar = int_to_char[str(sampleidx)]\n",
        "        if samplechar != \"E\":\n",
        "            sequence += samplechar\n",
        "            samplevec = np.zeros((1,1,n_vocab))\n",
        "            samplevec[0,0,sampleidx] = 1\n",
        "        else:\n",
        "            break\n",
        "    return sequence"
      ],
      "metadata": {
        "id": "Pb1QlP2lGG29"
      },
      "execution_count": null,
      "outputs": []
    },
    {
      "cell_type": "code",
      "source": [
        "# create the latent space\n",
        "latent_space = encoder_model.predict(X_train)\n",
        "print(f'Latent space shape: {latent_space.shape}')"
      ],
      "metadata": {
        "colab": {
          "base_uri": "https://localhost:8080/"
        },
        "id": "2Y8fizHnGJbH",
        "outputId": "5a0cb7c1-0128-4610-b02f-f6cf341aa96f"
      },
      "execution_count": null,
      "outputs": [
        {
          "output_type": "stream",
          "name": "stdout",
          "text": [
            "Latent space shape: (100, 128)\n"
          ]
        }
      ]
    },
    {
      "cell_type": "code",
      "source": [
        "# smile generation from the latent space using a baseline sampling temp\n",
        "sampling_temp = 1.0\n",
        "test_smile = sample_smiles(latent_space[0:1], n_vocab, sampling_temp)\n",
        "print('Baseline sampling temp smile generation:')\n",
        "print(test_smile)\n",
        "print(data[0])"
      ],
      "metadata": {
        "colab": {
          "base_uri": "https://localhost:8080/"
        },
        "id": "AL0ne3ANGLxp",
        "outputId": "1d725fab-74cd-4a1b-b663-493e92fa4795"
      },
      "execution_count": null,
      "outputs": [
        {
          "output_type": "stream",
          "name": "stdout",
          "text": [
            "Baseline sampling temp smile generation:\n",
            "COC1c2cccc(c2)C(C)c2ccsc2NC(=O)C2C3CCC4C5C6=C(N)C=CC=C7C(OS(C)(=O)=O)=CC=C6N(C(N)SC4CO)C7C32O1\n",
            "COC1c2cccc(c2)C(C)c2ccsc2NC(=O)C2C3CCC4C5C6=C(N)C=CC=C7C(OS(C)(=O)=O)=CC=C6N(C3N(C)C4CO)C71C52\n"
          ]
        }
      ]
    },
    {
      "cell_type": "code",
      "source": [
        "# smile generation from the latent space using a more aggressive sampling temp\n",
        "sampling_temp = 1.25\n",
        "test_smile = sample_smiles(latent_space[0:1], n_vocab, sampling_temp)\n",
        "print(test_smile)\n",
        "print(data[0])"
      ],
      "metadata": {
        "colab": {
          "base_uri": "https://localhost:8080/"
        },
        "id": "r-bI-oKFGNAj",
        "outputId": "7ad6ba5d-31d2-4db6-eb08-6ecc203231a7"
      },
      "execution_count": null,
      "outputs": [
        {
          "output_type": "stream",
          "name": "stdout",
          "text": [
            "COC1c2cccc(c2)S1CCCc1ccc(C(=O)N2CC3CCCC2C3C(=O)Nc2nc(-c3c(C)n[nH][nH]3)cn3cc(C#CC4CC4\n",
            "COC1c2cccc(c2)C(C)c2ccsc2NC(=O)C2C3CCC4C5C6=C(N)C=CC=C7C(OS(C)(=O)=O)=CC=C6N(C3N(C)C4CO)C71C52\n"
          ]
        }
      ]
    },
    {
      "cell_type": "code",
      "source": [
        "# check percentage of malformed smiles generated using a baseline sampling temperature\n",
        "sampling_temp = 1.0\n",
        "wrong = 0\n",
        "for i in range(100):\n",
        "    smiles = sample_smiles(latent_space[i:i+1], n_vocab, sampling_temp)\n",
        "    mol = Chem.MolFromSmiles(smiles)\n",
        "    if mol:\n",
        "        pass\n",
        "    else:\n",
        "        wrong = wrong + 1\n",
        "print(\"%0.1F percent wrongly formatted smiles\"%(wrong/float(100)*100))"
      ],
      "metadata": {
        "colab": {
          "base_uri": "https://localhost:8080/"
        },
        "id": "BGu1s8QCGM7Z",
        "outputId": "29adb017-3ede-4d6c-ab23-255fb44ec914"
      },
      "execution_count": null,
      "outputs": [
        {
          "output_type": "stream",
          "name": "stdout",
          "text": [
            "13.0 percent wrongly formatted smiles\n"
          ]
        }
      ]
    },
    {
      "cell_type": "code",
      "source": [
        "# function to generate smiles around a latent vector\n",
        "def generate(latent_seed, sampling_temp, scale, quant):\n",
        "  samples, mols = [], []\n",
        "  for i in range(quant):\n",
        "    latent_vec = latent_seed + scale*(np.random.randn(latent_seed.shape[1]))\n",
        "    out = sample_smiles(latent_vec, n_vocab, sampling_temp)\n",
        "    mol = Chem.MolFromSmiles(out)\n",
        "    if mol:\n",
        "      mols.append(mol)\n",
        "      samples.append(out)\n",
        "  return mols, samples"
      ],
      "metadata": {
        "id": "pfX08tL8GQRr"
      },
      "execution_count": null,
      "outputs": []
    },
    {
      "cell_type": "code",
      "source": [
        "# generate and plot our generated smiles molecules\n",
        "latent_seed = latent_space[50:51]\n",
        "sampling_temp = 0.75\n",
        "scale = 0.5\n",
        "quantity = 20\n",
        "t_mols, t_smiles = generate(latent_seed, sampling_temp, scale, quantity)\n",
        "Draw.MolsToGridImage(t_mols, molsPerRow=5)"
      ],
      "metadata": {
        "colab": {
          "base_uri": "https://localhost:8080/",
          "height": 360
        },
        "id": "mc7hQDLwGSVA",
        "outputId": "e5dbb1f1-d34b-472c-f1af-e2dd6e5a8288"
      },
      "execution_count": null,
      "outputs": [
        {
          "output_type": "execute_result",
          "data": {
            "text/plain": [
              "<PIL.PngImagePlugin.PngImageFile image mode=RGB size=1000x400 at 0x7F63E0D4F990>"
            ],
            "image/png": "[encoded data removed]"
          },
          "metadata": {},
          "execution_count": 94
        }
      ]
    },
    {
      "cell_type": "code",
      "source": [
        "print(f'Sampled SMILES:\\n {t_smiles}')\n"
      ],
      "metadata": {
        "colab": {
          "base_uri": "https://localhost:8080/"
        },
        "id": "BF2FyrUOGUW9",
        "outputId": "14bfdcca-2f43-46ec-8b08-fd9172a436b7"
      },
      "execution_count": null,
      "outputs": [
        {
          "output_type": "stream",
          "name": "stdout",
          "text": [
            "Sampled SMILES:\n",
            " ['CN1C(C(CS)C2Oc3ccccc3C23CON2C(=O)Cn4ncccc4=NC=CC=C32)C(O)CNC(=O)C2CNC(=O)N(CO)C21', 'CN1C(C(SC(=Cc2ccccc2)c2cccc(C=NO)c2)Sc2cc3c(O)cnnc3c(C(=O)O)n2)CCC1C(C)(C)F', 'CN1C(C(SC(Cc2ccccc2)c2cccc(C=NO)c2)Sc2cc3c(O)cnnc3c(C(=O)O)n2)CCC1C(C)(C)F', 'CN1C(C(SC(=Cc2ccccc2)c2ccccn2)C(=O)NC2C3=Cc4ccccc4C(=CC=S)NOC3CCC2(Cl)Cl)C1=NO', 'CN1C(C(SC(=Cc2ccccc2)c2cccc(C=NO)c2)Sc2cc3c(O)cnnc3c(C(=O)O)n2)CCC1C(C)(C)F', 'CN1C(C(SC(=O)Oc2ccccc2)c2ccc(CN3C=C(O)COCO3)c(F)c2)CC2C(CN1CCCOF)C[SH]2', 'CN1C(C(SC(=Cc2ccccc2)c2cccc(C=NO)c2)S(=O)(=O)C2CCC(=O)N1C#CCCCC(F)=O)CCN2', 'CN1C(C(SC(=Cc2ccccc2)c2cccc(C=NO)c2)Sc2cc3c(O)cnnc3c(C(=O)O)n2)CCCNCCCC1OC', 'CN1C(C(SC(=Cc2ccccc2)c2cccc(C=NO)c2)Sc2cc3c(O)cnnc3c(C(=O)O)n2)CCCNC(C)(C)C1', 'CN1C(C(SC(=CCc2ccccc2)c2cccc(C=NO)c2)Sc2cc3c(O)cnnc3c(C(=O)O)n2)CCC1C(C)(C)F']\n"
          ]
        }
      ]
    },
    {
      "cell_type": "code",
      "source": [
        "# create a for loop to generate molecules based off our sampling dataset's latent space\n",
        "gen_mols, gen_smiles = [], []\n",
        "for i in range(latent_space.shape[0] - 1):\n",
        "  latent_seed = latent_space[i:i+1]\n",
        "  sampling_temp = rn.uniform(0.75, 1.26)\n",
        "  scale = 0.75\n",
        "  quantity = 50\n",
        "  mols, smiles = generate(latent_seed, sampling_temp, scale, quantity)\n",
        "  gen_mols.extend(mols)\n",
        "  gen_smiles.extend(smiles)\n",
        "  moles, smiles = [], []\n",
        "print('SMILES generation completed!')"
      ],
      "metadata": {
        "colab": {
          "base_uri": "https://localhost:8080/",
          "height": 398
        },
        "id": "z4JvDLAvGVhj",
        "outputId": "d63cfdbc-2665-41d9-aeb8-f82ce01472ed"
      },
      "execution_count": null,
      "outputs": [
        {
          "output_type": "error",
          "ename": "KeyboardInterrupt",
          "evalue": "ignored",
          "traceback": [
            "\u001b[0;31m---------------------------------------------------------------------------\u001b[0m",
            "\u001b[0;31mKeyboardInterrupt\u001b[0m                         Traceback (most recent call last)",
            "\u001b[0;32m<ipython-input-96-8f11438c2968>\u001b[0m in \u001b[0;36m<module>\u001b[0;34m\u001b[0m\n\u001b[1;32m      6\u001b[0m   \u001b[0mscale\u001b[0m \u001b[0;34m=\u001b[0m \u001b[0;36m0.75\u001b[0m\u001b[0;34m\u001b[0m\u001b[0;34m\u001b[0m\u001b[0m\n\u001b[1;32m      7\u001b[0m   \u001b[0mquantity\u001b[0m \u001b[0;34m=\u001b[0m \u001b[0;36m50\u001b[0m\u001b[0;34m\u001b[0m\u001b[0;34m\u001b[0m\u001b[0m\n\u001b[0;32m----> 8\u001b[0;31m   \u001b[0mmols\u001b[0m\u001b[0;34m,\u001b[0m \u001b[0msmiles\u001b[0m \u001b[0;34m=\u001b[0m \u001b[0mgenerate\u001b[0m\u001b[0;34m(\u001b[0m\u001b[0mlatent_seed\u001b[0m\u001b[0;34m,\u001b[0m \u001b[0msampling_temp\u001b[0m\u001b[0;34m,\u001b[0m \u001b[0mscale\u001b[0m\u001b[0;34m,\u001b[0m \u001b[0mquantity\u001b[0m\u001b[0;34m)\u001b[0m\u001b[0;34m\u001b[0m\u001b[0;34m\u001b[0m\u001b[0m\n\u001b[0m\u001b[1;32m      9\u001b[0m   \u001b[0mgen_mols\u001b[0m\u001b[0;34m.\u001b[0m\u001b[0mextend\u001b[0m\u001b[0;34m(\u001b[0m\u001b[0mmols\u001b[0m\u001b[0;34m)\u001b[0m\u001b[0;34m\u001b[0m\u001b[0;34m\u001b[0m\u001b[0m\n\u001b[1;32m     10\u001b[0m   \u001b[0mgen_smiles\u001b[0m\u001b[0;34m.\u001b[0m\u001b[0mextend\u001b[0m\u001b[0;34m(\u001b[0m\u001b[0msmiles\u001b[0m\u001b[0;34m)\u001b[0m\u001b[0;34m\u001b[0m\u001b[0;34m\u001b[0m\u001b[0m\n",
            "\u001b[0;32m<ipython-input-93-2d6a67f15cfd>\u001b[0m in \u001b[0;36mgenerate\u001b[0;34m(latent_seed, sampling_temp, scale, quant)\u001b[0m\n\u001b[1;32m      4\u001b[0m   \u001b[0;32mfor\u001b[0m \u001b[0mi\u001b[0m \u001b[0;32min\u001b[0m \u001b[0mrange\u001b[0m\u001b[0;34m(\u001b[0m\u001b[0mquant\u001b[0m\u001b[0;34m)\u001b[0m\u001b[0;34m:\u001b[0m\u001b[0;34m\u001b[0m\u001b[0;34m\u001b[0m\u001b[0m\n\u001b[1;32m      5\u001b[0m     \u001b[0mlatent_vec\u001b[0m \u001b[0;34m=\u001b[0m \u001b[0mlatent_seed\u001b[0m \u001b[0;34m+\u001b[0m \u001b[0mscale\u001b[0m\u001b[0;34m*\u001b[0m\u001b[0;34m(\u001b[0m\u001b[0mnp\u001b[0m\u001b[0;34m.\u001b[0m\u001b[0mrandom\u001b[0m\u001b[0;34m.\u001b[0m\u001b[0mrandn\u001b[0m\u001b[0;34m(\u001b[0m\u001b[0mlatent_seed\u001b[0m\u001b[0;34m.\u001b[0m\u001b[0mshape\u001b[0m\u001b[0;34m[\u001b[0m\u001b[0;36m1\u001b[0m\u001b[0;34m]\u001b[0m\u001b[0;34m)\u001b[0m\u001b[0;34m)\u001b[0m\u001b[0;34m\u001b[0m\u001b[0;34m\u001b[0m\u001b[0m\n\u001b[0;32m----> 6\u001b[0;31m     \u001b[0mout\u001b[0m \u001b[0;34m=\u001b[0m \u001b[0msample_smiles\u001b[0m\u001b[0;34m(\u001b[0m\u001b[0mlatent_vec\u001b[0m\u001b[0;34m,\u001b[0m \u001b[0mn_vocab\u001b[0m\u001b[0;34m,\u001b[0m \u001b[0msampling_temp\u001b[0m\u001b[0;34m)\u001b[0m\u001b[0;34m\u001b[0m\u001b[0;34m\u001b[0m\u001b[0m\n\u001b[0m\u001b[1;32m      7\u001b[0m     \u001b[0mmol\u001b[0m \u001b[0;34m=\u001b[0m \u001b[0mChem\u001b[0m\u001b[0;34m.\u001b[0m\u001b[0mMolFromSmiles\u001b[0m\u001b[0;34m(\u001b[0m\u001b[0mout\u001b[0m\u001b[0;34m)\u001b[0m\u001b[0;34m\u001b[0m\u001b[0;34m\u001b[0m\u001b[0m\n\u001b[1;32m      8\u001b[0m     \u001b[0;32mif\u001b[0m \u001b[0mmol\u001b[0m\u001b[0;34m:\u001b[0m\u001b[0;34m\u001b[0m\u001b[0;34m\u001b[0m\u001b[0m\n",
            "\u001b[0;32m<ipython-input-88-30259582f3d0>\u001b[0m in \u001b[0;36msample_smiles\u001b[0;34m(latent, n_vocab, sampling_temp)\u001b[0m\n\u001b[1;32m     11\u001b[0m     \u001b[0;31m# loop to predict the next smiles character\u001b[0m\u001b[0;34m\u001b[0m\u001b[0;34m\u001b[0m\u001b[0;34m\u001b[0m\u001b[0m\n\u001b[1;32m     12\u001b[0m     \u001b[0;32mfor\u001b[0m \u001b[0mi\u001b[0m \u001b[0;32min\u001b[0m \u001b[0mrange\u001b[0m\u001b[0;34m(\u001b[0m\u001b[0;36m101\u001b[0m\u001b[0;34m)\u001b[0m\u001b[0;34m:\u001b[0m\u001b[0;34m\u001b[0m\u001b[0;34m\u001b[0m\u001b[0m\n\u001b[0;32m---> 13\u001b[0;31m         \u001b[0mpreds\u001b[0m \u001b[0;34m=\u001b[0m \u001b[0mgen_model\u001b[0m\u001b[0;34m.\u001b[0m\u001b[0mpredict\u001b[0m\u001b[0;34m(\u001b[0m\u001b[0msamplevec\u001b[0m\u001b[0;34m)\u001b[0m\u001b[0;34m[\u001b[0m\u001b[0;36m0\u001b[0m\u001b[0;34m]\u001b[0m\u001b[0;34m[\u001b[0m\u001b[0;34m-\u001b[0m\u001b[0;36m1\u001b[0m\u001b[0;34m]\u001b[0m\u001b[0;34m\u001b[0m\u001b[0;34m\u001b[0m\u001b[0m\n\u001b[0m\u001b[1;32m     14\u001b[0m         \u001b[0;32mif\u001b[0m \u001b[0msampling_temp\u001b[0m \u001b[0;34m==\u001b[0m \u001b[0;36m1.0\u001b[0m\u001b[0;34m:\u001b[0m\u001b[0;34m\u001b[0m\u001b[0;34m\u001b[0m\u001b[0m\n\u001b[1;32m     15\u001b[0m           \u001b[0msampleidx\u001b[0m \u001b[0;34m=\u001b[0m \u001b[0mnp\u001b[0m\u001b[0;34m.\u001b[0m\u001b[0margmax\u001b[0m\u001b[0;34m(\u001b[0m\u001b[0mpreds\u001b[0m\u001b[0;34m)\u001b[0m\u001b[0;34m\u001b[0m\u001b[0;34m\u001b[0m\u001b[0m\n",
            "\u001b[0;32m/usr/local/lib/python3.7/dist-packages/keras/utils/traceback_utils.py\u001b[0m in \u001b[0;36merror_handler\u001b[0;34m(*args, **kwargs)\u001b[0m\n\u001b[1;32m     62\u001b[0m     \u001b[0mfiltered_tb\u001b[0m \u001b[0;34m=\u001b[0m \u001b[0;32mNone\u001b[0m\u001b[0;34m\u001b[0m\u001b[0;34m\u001b[0m\u001b[0m\n\u001b[1;32m     63\u001b[0m     \u001b[0;32mtry\u001b[0m\u001b[0;34m:\u001b[0m\u001b[0;34m\u001b[0m\u001b[0;34m\u001b[0m\u001b[0m\n\u001b[0;32m---> 64\u001b[0;31m       \u001b[0;32mreturn\u001b[0m \u001b[0mfn\u001b[0m\u001b[0;34m(\u001b[0m\u001b[0;34m*\u001b[0m\u001b[0margs\u001b[0m\u001b[0;34m,\u001b[0m \u001b[0;34m**\u001b[0m\u001b[0mkwargs\u001b[0m\u001b[0;34m)\u001b[0m\u001b[0;34m\u001b[0m\u001b[0;34m\u001b[0m\u001b[0m\n\u001b[0m\u001b[1;32m     65\u001b[0m     \u001b[0;32mexcept\u001b[0m \u001b[0mException\u001b[0m \u001b[0;32mas\u001b[0m \u001b[0me\u001b[0m\u001b[0;34m:\u001b[0m  \u001b[0;31m# pylint: disable=broad-except\u001b[0m\u001b[0;34m\u001b[0m\u001b[0;34m\u001b[0m\u001b[0m\n\u001b[1;32m     66\u001b[0m       \u001b[0mfiltered_tb\u001b[0m \u001b[0;34m=\u001b[0m \u001b[0m_process_traceback_frames\u001b[0m\u001b[0;34m(\u001b[0m\u001b[0me\u001b[0m\u001b[0;34m.\u001b[0m\u001b[0m__traceback__\u001b[0m\u001b[0;34m)\u001b[0m\u001b[0;34m\u001b[0m\u001b[0;34m\u001b[0m\u001b[0m\n",
            "\u001b[0;32m/usr/local/lib/python3.7/dist-packages/keras/engine/training.py\u001b[0m in \u001b[0;36mpredict\u001b[0;34m(self, x, batch_size, verbose, steps, callbacks, max_queue_size, workers, use_multiprocessing)\u001b[0m\n\u001b[1;32m   1959\u001b[0m           \u001b[0muse_multiprocessing\u001b[0m\u001b[0;34m=\u001b[0m\u001b[0muse_multiprocessing\u001b[0m\u001b[0;34m,\u001b[0m\u001b[0;34m\u001b[0m\u001b[0;34m\u001b[0m\u001b[0m\n\u001b[1;32m   1960\u001b[0m           \u001b[0mmodel\u001b[0m\u001b[0;34m=\u001b[0m\u001b[0mself\u001b[0m\u001b[0;34m,\u001b[0m\u001b[0;34m\u001b[0m\u001b[0;34m\u001b[0m\u001b[0m\n\u001b[0;32m-> 1961\u001b[0;31m           steps_per_execution=self._steps_per_execution)\n\u001b[0m\u001b[1;32m   1962\u001b[0m \u001b[0;34m\u001b[0m\u001b[0m\n\u001b[1;32m   1963\u001b[0m       \u001b[0;31m# Container that configures and calls `tf.keras.Callback`s.\u001b[0m\u001b[0;34m\u001b[0m\u001b[0;34m\u001b[0m\u001b[0;34m\u001b[0m\u001b[0m\n",
            "\u001b[0;32m/usr/local/lib/python3.7/dist-packages/keras/engine/data_adapter.py\u001b[0m in \u001b[0;36mget_data_handler\u001b[0;34m(*args, **kwargs)\u001b[0m\n\u001b[1;32m   1397\u001b[0m   \u001b[0;32mif\u001b[0m \u001b[0mgetattr\u001b[0m\u001b[0;34m(\u001b[0m\u001b[0mkwargs\u001b[0m\u001b[0;34m[\u001b[0m\u001b[0;34m\"model\"\u001b[0m\u001b[0;34m]\u001b[0m\u001b[0;34m,\u001b[0m \u001b[0;34m\"_cluster_coordinator\"\u001b[0m\u001b[0;34m,\u001b[0m \u001b[0;32mNone\u001b[0m\u001b[0;34m)\u001b[0m\u001b[0;34m:\u001b[0m\u001b[0;34m\u001b[0m\u001b[0;34m\u001b[0m\u001b[0m\n\u001b[1;32m   1398\u001b[0m     \u001b[0;32mreturn\u001b[0m \u001b[0m_ClusterCoordinatorDataHandler\u001b[0m\u001b[0;34m(\u001b[0m\u001b[0;34m*\u001b[0m\u001b[0margs\u001b[0m\u001b[0;34m,\u001b[0m \u001b[0;34m**\u001b[0m\u001b[0mkwargs\u001b[0m\u001b[0;34m)\u001b[0m\u001b[0;34m\u001b[0m\u001b[0;34m\u001b[0m\u001b[0m\n\u001b[0;32m-> 1399\u001b[0;31m   \u001b[0;32mreturn\u001b[0m \u001b[0mDataHandler\u001b[0m\u001b[0;34m(\u001b[0m\u001b[0;34m*\u001b[0m\u001b[0margs\u001b[0m\u001b[0;34m,\u001b[0m \u001b[0;34m**\u001b[0m\u001b[0mkwargs\u001b[0m\u001b[0;34m)\u001b[0m\u001b[0;34m\u001b[0m\u001b[0;34m\u001b[0m\u001b[0m\n\u001b[0m\u001b[1;32m   1400\u001b[0m \u001b[0;34m\u001b[0m\u001b[0m\n\u001b[1;32m   1401\u001b[0m \u001b[0;34m\u001b[0m\u001b[0m\n",
            "\u001b[0;32m/usr/local/lib/python3.7/dist-packages/keras/engine/data_adapter.py\u001b[0m in \u001b[0;36m__init__\u001b[0;34m(self, x, y, sample_weight, batch_size, steps_per_epoch, initial_epoch, epochs, shuffle, class_weight, max_queue_size, workers, use_multiprocessing, model, steps_per_execution, distribute)\u001b[0m\n\u001b[1;32m   1159\u001b[0m         \u001b[0muse_multiprocessing\u001b[0m\u001b[0;34m=\u001b[0m\u001b[0muse_multiprocessing\u001b[0m\u001b[0;34m,\u001b[0m\u001b[0;34m\u001b[0m\u001b[0;34m\u001b[0m\u001b[0m\n\u001b[1;32m   1160\u001b[0m         \u001b[0mdistribution_strategy\u001b[0m\u001b[0;34m=\u001b[0m\u001b[0mtf\u001b[0m\u001b[0;34m.\u001b[0m\u001b[0mdistribute\u001b[0m\u001b[0;34m.\u001b[0m\u001b[0mget_strategy\u001b[0m\u001b[0;34m(\u001b[0m\u001b[0;34m)\u001b[0m\u001b[0;34m,\u001b[0m\u001b[0;34m\u001b[0m\u001b[0;34m\u001b[0m\u001b[0m\n\u001b[0;32m-> 1161\u001b[0;31m         model=model)\n\u001b[0m\u001b[1;32m   1162\u001b[0m \u001b[0;34m\u001b[0m\u001b[0m\n\u001b[1;32m   1163\u001b[0m     \u001b[0mstrategy\u001b[0m \u001b[0;34m=\u001b[0m \u001b[0mtf\u001b[0m\u001b[0;34m.\u001b[0m\u001b[0mdistribute\u001b[0m\u001b[0;34m.\u001b[0m\u001b[0mget_strategy\u001b[0m\u001b[0;34m(\u001b[0m\u001b[0;34m)\u001b[0m\u001b[0;34m\u001b[0m\u001b[0;34m\u001b[0m\u001b[0m\n",
            "\u001b[0;32m/usr/local/lib/python3.7/dist-packages/keras/engine/data_adapter.py\u001b[0m in \u001b[0;36m__init__\u001b[0;34m(self, x, y, sample_weights, sample_weight_modes, batch_size, epochs, steps, shuffle, **kwargs)\u001b[0m\n\u001b[1;32m    324\u001b[0m       \u001b[0;32mreturn\u001b[0m \u001b[0mflat_dataset\u001b[0m\u001b[0;34m\u001b[0m\u001b[0;34m\u001b[0m\u001b[0m\n\u001b[1;32m    325\u001b[0m \u001b[0;34m\u001b[0m\u001b[0m\n\u001b[0;32m--> 326\u001b[0;31m     \u001b[0mindices_dataset\u001b[0m \u001b[0;34m=\u001b[0m \u001b[0mindices_dataset\u001b[0m\u001b[0;34m.\u001b[0m\u001b[0mflat_map\u001b[0m\u001b[0;34m(\u001b[0m\u001b[0mslice_batch_indices\u001b[0m\u001b[0;34m)\u001b[0m\u001b[0;34m\u001b[0m\u001b[0;34m\u001b[0m\u001b[0m\n\u001b[0m\u001b[1;32m    327\u001b[0m \u001b[0;34m\u001b[0m\u001b[0m\n\u001b[1;32m    328\u001b[0m     \u001b[0mdataset\u001b[0m \u001b[0;34m=\u001b[0m \u001b[0mself\u001b[0m\u001b[0;34m.\u001b[0m\u001b[0mslice_inputs\u001b[0m\u001b[0;34m(\u001b[0m\u001b[0mindices_dataset\u001b[0m\u001b[0;34m,\u001b[0m \u001b[0minputs\u001b[0m\u001b[0;34m)\u001b[0m\u001b[0;34m\u001b[0m\u001b[0;34m\u001b[0m\u001b[0m\n",
            "\u001b[0;32m/usr/local/lib/python3.7/dist-packages/tensorflow/python/data/ops/dataset_ops.py\u001b[0m in \u001b[0;36mflat_map\u001b[0;34m(self, map_func, name)\u001b[0m\n\u001b[1;32m   2058\u001b[0m       \u001b[0mDataset\u001b[0m\u001b[0;34m:\u001b[0m \u001b[0mA\u001b[0m\u001b[0;31m \u001b[0m\u001b[0;31m`\u001b[0m\u001b[0mDataset\u001b[0m\u001b[0;31m`\u001b[0m\u001b[0;34m.\u001b[0m\u001b[0;34m\u001b[0m\u001b[0;34m\u001b[0m\u001b[0m\n\u001b[1;32m   2059\u001b[0m     \"\"\"\n\u001b[0;32m-> 2060\u001b[0;31m     \u001b[0;32mreturn\u001b[0m \u001b[0mFlatMapDataset\u001b[0m\u001b[0;34m(\u001b[0m\u001b[0mself\u001b[0m\u001b[0;34m,\u001b[0m \u001b[0mmap_func\u001b[0m\u001b[0;34m,\u001b[0m \u001b[0mname\u001b[0m\u001b[0;34m=\u001b[0m\u001b[0mname\u001b[0m\u001b[0;34m)\u001b[0m\u001b[0;34m\u001b[0m\u001b[0;34m\u001b[0m\u001b[0m\n\u001b[0m\u001b[1;32m   2061\u001b[0m \u001b[0;34m\u001b[0m\u001b[0m\n\u001b[1;32m   2062\u001b[0m   def interleave(self,\n",
            "\u001b[0;32m/usr/local/lib/python3.7/dist-packages/tensorflow/python/data/ops/dataset_ops.py\u001b[0m in \u001b[0;36m__init__\u001b[0;34m(self, input_dataset, map_func, name)\u001b[0m\n\u001b[1;32m   5278\u001b[0m     \u001b[0mself\u001b[0m\u001b[0;34m.\u001b[0m\u001b[0m_input_dataset\u001b[0m \u001b[0;34m=\u001b[0m \u001b[0minput_dataset\u001b[0m\u001b[0;34m\u001b[0m\u001b[0;34m\u001b[0m\u001b[0m\n\u001b[1;32m   5279\u001b[0m     self._map_func = structured_function.StructuredFunctionWrapper(\n\u001b[0;32m-> 5280\u001b[0;31m         map_func, self._transformation_name(), dataset=input_dataset)\n\u001b[0m\u001b[1;32m   5281\u001b[0m     \u001b[0;32mif\u001b[0m \u001b[0;32mnot\u001b[0m \u001b[0misinstance\u001b[0m\u001b[0;34m(\u001b[0m\u001b[0mself\u001b[0m\u001b[0;34m.\u001b[0m\u001b[0m_map_func\u001b[0m\u001b[0;34m.\u001b[0m\u001b[0moutput_structure\u001b[0m\u001b[0;34m,\u001b[0m \u001b[0mDatasetSpec\u001b[0m\u001b[0;34m)\u001b[0m\u001b[0;34m:\u001b[0m\u001b[0;34m\u001b[0m\u001b[0;34m\u001b[0m\u001b[0m\n\u001b[1;32m   5282\u001b[0m       raise TypeError(\n",
            "\u001b[0;32m/usr/local/lib/python3.7/dist-packages/tensorflow/python/data/ops/structured_function.py\u001b[0m in \u001b[0;36m__init__\u001b[0;34m(self, func, transformation_name, dataset, input_classes, input_shapes, input_types, input_structure, add_to_graph, use_legacy_function, defun_kwargs)\u001b[0m\n\u001b[1;32m    269\u001b[0m         \u001b[0mfn_factory\u001b[0m \u001b[0;34m=\u001b[0m \u001b[0mtrace_tf_function\u001b[0m\u001b[0;34m(\u001b[0m\u001b[0mdefun_kwargs\u001b[0m\u001b[0;34m)\u001b[0m\u001b[0;34m\u001b[0m\u001b[0;34m\u001b[0m\u001b[0m\n\u001b[1;32m    270\u001b[0m \u001b[0;34m\u001b[0m\u001b[0m\n\u001b[0;32m--> 271\u001b[0;31m     \u001b[0mself\u001b[0m\u001b[0;34m.\u001b[0m\u001b[0m_function\u001b[0m \u001b[0;34m=\u001b[0m \u001b[0mfn_factory\u001b[0m\u001b[0;34m(\u001b[0m\u001b[0;34m)\u001b[0m\u001b[0;34m\u001b[0m\u001b[0;34m\u001b[0m\u001b[0m\n\u001b[0m\u001b[1;32m    272\u001b[0m     \u001b[0;31m# There is no graph to add in eager mode.\u001b[0m\u001b[0;34m\u001b[0m\u001b[0;34m\u001b[0m\u001b[0;34m\u001b[0m\u001b[0m\n\u001b[1;32m    273\u001b[0m     \u001b[0madd_to_graph\u001b[0m \u001b[0;34m&=\u001b[0m \u001b[0;32mnot\u001b[0m \u001b[0mcontext\u001b[0m\u001b[0;34m.\u001b[0m\u001b[0mexecuting_eagerly\u001b[0m\u001b[0;34m(\u001b[0m\u001b[0;34m)\u001b[0m\u001b[0;34m\u001b[0m\u001b[0;34m\u001b[0m\u001b[0m\n",
            "\u001b[0;32m/usr/local/lib/python3.7/dist-packages/tensorflow/python/eager/function.py\u001b[0m in \u001b[0;36mget_concrete_function\u001b[0;34m(self, *args, **kwargs)\u001b[0m\n\u001b[1;32m   3069\u001b[0m     \"\"\"\n\u001b[1;32m   3070\u001b[0m     graph_function = self._get_concrete_function_garbage_collected(\n\u001b[0;32m-> 3071\u001b[0;31m         *args, **kwargs)\n\u001b[0m\u001b[1;32m   3072\u001b[0m     \u001b[0mgraph_function\u001b[0m\u001b[0;34m.\u001b[0m\u001b[0m_garbage_collector\u001b[0m\u001b[0;34m.\u001b[0m\u001b[0mrelease\u001b[0m\u001b[0;34m(\u001b[0m\u001b[0;34m)\u001b[0m  \u001b[0;31m# pylint: disable=protected-access\u001b[0m\u001b[0;34m\u001b[0m\u001b[0;34m\u001b[0m\u001b[0m\n\u001b[1;32m   3073\u001b[0m     \u001b[0;32mreturn\u001b[0m \u001b[0mgraph_function\u001b[0m\u001b[0;34m\u001b[0m\u001b[0;34m\u001b[0m\u001b[0m\n",
            "\u001b[0;32m/usr/local/lib/python3.7/dist-packages/tensorflow/python/eager/function.py\u001b[0m in \u001b[0;36m_get_concrete_function_garbage_collected\u001b[0;34m(self, *args, **kwargs)\u001b[0m\n\u001b[1;32m   3034\u001b[0m       \u001b[0margs\u001b[0m\u001b[0;34m,\u001b[0m \u001b[0mkwargs\u001b[0m \u001b[0;34m=\u001b[0m \u001b[0;32mNone\u001b[0m\u001b[0;34m,\u001b[0m \u001b[0;32mNone\u001b[0m\u001b[0;34m\u001b[0m\u001b[0;34m\u001b[0m\u001b[0m\n\u001b[1;32m   3035\u001b[0m     \u001b[0;32mwith\u001b[0m \u001b[0mself\u001b[0m\u001b[0;34m.\u001b[0m\u001b[0m_lock\u001b[0m\u001b[0;34m:\u001b[0m\u001b[0;34m\u001b[0m\u001b[0;34m\u001b[0m\u001b[0m\n\u001b[0;32m-> 3036\u001b[0;31m       \u001b[0mgraph_function\u001b[0m\u001b[0;34m,\u001b[0m \u001b[0m_\u001b[0m \u001b[0;34m=\u001b[0m \u001b[0mself\u001b[0m\u001b[0;34m.\u001b[0m\u001b[0m_maybe_define_function\u001b[0m\u001b[0;34m(\u001b[0m\u001b[0margs\u001b[0m\u001b[0;34m,\u001b[0m \u001b[0mkwargs\u001b[0m\u001b[0;34m)\u001b[0m\u001b[0;34m\u001b[0m\u001b[0;34m\u001b[0m\u001b[0m\n\u001b[0m\u001b[1;32m   3037\u001b[0m       \u001b[0mseen_names\u001b[0m \u001b[0;34m=\u001b[0m \u001b[0mset\u001b[0m\u001b[0;34m(\u001b[0m\u001b[0;34m)\u001b[0m\u001b[0;34m\u001b[0m\u001b[0;34m\u001b[0m\u001b[0m\n\u001b[1;32m   3038\u001b[0m       captured = object_identity.ObjectIdentitySet(\n",
            "\u001b[0;32m/usr/local/lib/python3.7/dist-packages/tensorflow/python/eager/function.py\u001b[0m in \u001b[0;36m_maybe_define_function\u001b[0;34m(self, args, kwargs)\u001b[0m\n\u001b[1;32m   3290\u001b[0m \u001b[0;34m\u001b[0m\u001b[0m\n\u001b[1;32m   3291\u001b[0m           \u001b[0mself\u001b[0m\u001b[0;34m.\u001b[0m\u001b[0m_function_cache\u001b[0m\u001b[0;34m.\u001b[0m\u001b[0madd_call_context\u001b[0m\u001b[0;34m(\u001b[0m\u001b[0mcache_key\u001b[0m\u001b[0;34m.\u001b[0m\u001b[0mcall_context\u001b[0m\u001b[0;34m)\u001b[0m\u001b[0;34m\u001b[0m\u001b[0;34m\u001b[0m\u001b[0m\n\u001b[0;32m-> 3292\u001b[0;31m           \u001b[0mgraph_function\u001b[0m \u001b[0;34m=\u001b[0m \u001b[0mself\u001b[0m\u001b[0;34m.\u001b[0m\u001b[0m_create_graph_function\u001b[0m\u001b[0;34m(\u001b[0m\u001b[0margs\u001b[0m\u001b[0;34m,\u001b[0m \u001b[0mkwargs\u001b[0m\u001b[0;34m)\u001b[0m\u001b[0;34m\u001b[0m\u001b[0;34m\u001b[0m\u001b[0m\n\u001b[0m\u001b[1;32m   3293\u001b[0m           self._function_cache.add(cache_key, cache_key_deletion_observer,\n\u001b[1;32m   3294\u001b[0m                                    graph_function)\n",
            "\u001b[0;32m/usr/local/lib/python3.7/dist-packages/tensorflow/python/eager/function.py\u001b[0m in \u001b[0;36m_create_graph_function\u001b[0;34m(self, args, kwargs, override_flat_arg_shapes)\u001b[0m\n\u001b[1;32m   3138\u001b[0m             \u001b[0marg_names\u001b[0m\u001b[0;34m=\u001b[0m\u001b[0marg_names\u001b[0m\u001b[0;34m,\u001b[0m\u001b[0;34m\u001b[0m\u001b[0;34m\u001b[0m\u001b[0m\n\u001b[1;32m   3139\u001b[0m             \u001b[0moverride_flat_arg_shapes\u001b[0m\u001b[0;34m=\u001b[0m\u001b[0moverride_flat_arg_shapes\u001b[0m\u001b[0;34m,\u001b[0m\u001b[0;34m\u001b[0m\u001b[0;34m\u001b[0m\u001b[0m\n\u001b[0;32m-> 3140\u001b[0;31m             capture_by_value=self._capture_by_value),\n\u001b[0m\u001b[1;32m   3141\u001b[0m         \u001b[0mself\u001b[0m\u001b[0;34m.\u001b[0m\u001b[0m_function_attributes\u001b[0m\u001b[0;34m,\u001b[0m\u001b[0;34m\u001b[0m\u001b[0;34m\u001b[0m\u001b[0m\n\u001b[1;32m   3142\u001b[0m         \u001b[0mfunction_spec\u001b[0m\u001b[0;34m=\u001b[0m\u001b[0mself\u001b[0m\u001b[0;34m.\u001b[0m\u001b[0mfunction_spec\u001b[0m\u001b[0;34m,\u001b[0m\u001b[0;34m\u001b[0m\u001b[0;34m\u001b[0m\u001b[0m\n",
            "\u001b[0;32m/usr/local/lib/python3.7/dist-packages/tensorflow/python/framework/func_graph.py\u001b[0m in \u001b[0;36mfunc_graph_from_py_func\u001b[0;34m(name, python_func, args, kwargs, signature, func_graph, autograph, autograph_options, add_control_dependencies, arg_names, op_return_value, collections, capture_by_value, override_flat_arg_shapes, acd_record_initial_resource_uses)\u001b[0m\n\u001b[1;32m   1159\u001b[0m         \u001b[0m_\u001b[0m\u001b[0;34m,\u001b[0m \u001b[0moriginal_func\u001b[0m \u001b[0;34m=\u001b[0m \u001b[0mtf_decorator\u001b[0m\u001b[0;34m.\u001b[0m\u001b[0munwrap\u001b[0m\u001b[0;34m(\u001b[0m\u001b[0mpython_func\u001b[0m\u001b[0;34m)\u001b[0m\u001b[0;34m\u001b[0m\u001b[0;34m\u001b[0m\u001b[0m\n\u001b[1;32m   1160\u001b[0m \u001b[0;34m\u001b[0m\u001b[0m\n\u001b[0;32m-> 1161\u001b[0;31m       \u001b[0mfunc_outputs\u001b[0m \u001b[0;34m=\u001b[0m \u001b[0mpython_func\u001b[0m\u001b[0;34m(\u001b[0m\u001b[0;34m*\u001b[0m\u001b[0mfunc_args\u001b[0m\u001b[0;34m,\u001b[0m \u001b[0;34m**\u001b[0m\u001b[0mfunc_kwargs\u001b[0m\u001b[0;34m)\u001b[0m\u001b[0;34m\u001b[0m\u001b[0;34m\u001b[0m\u001b[0m\n\u001b[0m\u001b[1;32m   1162\u001b[0m \u001b[0;34m\u001b[0m\u001b[0m\n\u001b[1;32m   1163\u001b[0m       \u001b[0;31m# invariant: `func_outputs` contains only Tensors, CompositeTensors,\u001b[0m\u001b[0;34m\u001b[0m\u001b[0;34m\u001b[0m\u001b[0;34m\u001b[0m\u001b[0m\n",
            "\u001b[0;32m/usr/local/lib/python3.7/dist-packages/tensorflow/python/data/ops/structured_function.py\u001b[0m in \u001b[0;36mwrapped_fn\u001b[0;34m(*args)\u001b[0m\n\u001b[1;32m    246\u001b[0m           attributes=defun_kwargs)\n\u001b[1;32m    247\u001b[0m       \u001b[0;32mdef\u001b[0m \u001b[0mwrapped_fn\u001b[0m\u001b[0;34m(\u001b[0m\u001b[0;34m*\u001b[0m\u001b[0margs\u001b[0m\u001b[0;34m)\u001b[0m\u001b[0;34m:\u001b[0m  \u001b[0;31m# pylint: disable=missing-docstring\u001b[0m\u001b[0;34m\u001b[0m\u001b[0;34m\u001b[0m\u001b[0m\n\u001b[0;32m--> 248\u001b[0;31m         \u001b[0mret\u001b[0m \u001b[0;34m=\u001b[0m \u001b[0mwrapper_helper\u001b[0m\u001b[0;34m(\u001b[0m\u001b[0;34m*\u001b[0m\u001b[0margs\u001b[0m\u001b[0;34m)\u001b[0m\u001b[0;34m\u001b[0m\u001b[0;34m\u001b[0m\u001b[0m\n\u001b[0m\u001b[1;32m    249\u001b[0m         \u001b[0mret\u001b[0m \u001b[0;34m=\u001b[0m \u001b[0mstructure\u001b[0m\u001b[0;34m.\u001b[0m\u001b[0mto_tensor_list\u001b[0m\u001b[0;34m(\u001b[0m\u001b[0mself\u001b[0m\u001b[0;34m.\u001b[0m\u001b[0m_output_structure\u001b[0m\u001b[0;34m,\u001b[0m \u001b[0mret\u001b[0m\u001b[0;34m)\u001b[0m\u001b[0;34m\u001b[0m\u001b[0;34m\u001b[0m\u001b[0m\n\u001b[1;32m    250\u001b[0m         \u001b[0;32mreturn\u001b[0m \u001b[0;34m[\u001b[0m\u001b[0mops\u001b[0m\u001b[0;34m.\u001b[0m\u001b[0mconvert_to_tensor\u001b[0m\u001b[0;34m(\u001b[0m\u001b[0mt\u001b[0m\u001b[0;34m)\u001b[0m \u001b[0;32mfor\u001b[0m \u001b[0mt\u001b[0m \u001b[0;32min\u001b[0m \u001b[0mret\u001b[0m\u001b[0;34m]\u001b[0m\u001b[0;34m\u001b[0m\u001b[0;34m\u001b[0m\u001b[0m\n",
            "\u001b[0;32m/usr/local/lib/python3.7/dist-packages/tensorflow/python/data/ops/structured_function.py\u001b[0m in \u001b[0;36mwrapper_helper\u001b[0;34m(*args)\u001b[0m\n\u001b[1;32m    175\u001b[0m       \u001b[0;32mif\u001b[0m \u001b[0;32mnot\u001b[0m \u001b[0m_should_unpack\u001b[0m\u001b[0;34m(\u001b[0m\u001b[0mnested_args\u001b[0m\u001b[0;34m)\u001b[0m\u001b[0;34m:\u001b[0m\u001b[0;34m\u001b[0m\u001b[0;34m\u001b[0m\u001b[0m\n\u001b[1;32m    176\u001b[0m         \u001b[0mnested_args\u001b[0m \u001b[0;34m=\u001b[0m \u001b[0;34m(\u001b[0m\u001b[0mnested_args\u001b[0m\u001b[0;34m,\u001b[0m\u001b[0;34m)\u001b[0m\u001b[0;34m\u001b[0m\u001b[0;34m\u001b[0m\u001b[0m\n\u001b[0;32m--> 177\u001b[0;31m       \u001b[0mret\u001b[0m \u001b[0;34m=\u001b[0m \u001b[0mautograph\u001b[0m\u001b[0;34m.\u001b[0m\u001b[0mtf_convert\u001b[0m\u001b[0;34m(\u001b[0m\u001b[0mself\u001b[0m\u001b[0;34m.\u001b[0m\u001b[0m_func\u001b[0m\u001b[0;34m,\u001b[0m \u001b[0mag_ctx\u001b[0m\u001b[0;34m)\u001b[0m\u001b[0;34m(\u001b[0m\u001b[0;34m*\u001b[0m\u001b[0mnested_args\u001b[0m\u001b[0;34m)\u001b[0m\u001b[0;34m\u001b[0m\u001b[0;34m\u001b[0m\u001b[0m\n\u001b[0m\u001b[1;32m    178\u001b[0m       \u001b[0;32mif\u001b[0m \u001b[0m_should_pack\u001b[0m\u001b[0;34m(\u001b[0m\u001b[0mret\u001b[0m\u001b[0;34m)\u001b[0m\u001b[0;34m:\u001b[0m\u001b[0;34m\u001b[0m\u001b[0;34m\u001b[0m\u001b[0m\n\u001b[1;32m    179\u001b[0m         \u001b[0mret\u001b[0m \u001b[0;34m=\u001b[0m \u001b[0mtuple\u001b[0m\u001b[0;34m(\u001b[0m\u001b[0mret\u001b[0m\u001b[0;34m)\u001b[0m\u001b[0;34m\u001b[0m\u001b[0;34m\u001b[0m\u001b[0m\n",
            "\u001b[0;32m/usr/local/lib/python3.7/dist-packages/tensorflow/python/autograph/impl/api.py\u001b[0m in \u001b[0;36mwrapper\u001b[0;34m(*args, **kwargs)\u001b[0m\n\u001b[1;32m    687\u001b[0m       \u001b[0;32mtry\u001b[0m\u001b[0;34m:\u001b[0m\u001b[0;34m\u001b[0m\u001b[0;34m\u001b[0m\u001b[0m\n\u001b[1;32m    688\u001b[0m         \u001b[0;32mwith\u001b[0m \u001b[0mconversion_ctx\u001b[0m\u001b[0;34m:\u001b[0m\u001b[0;34m\u001b[0m\u001b[0;34m\u001b[0m\u001b[0m\n\u001b[0;32m--> 689\u001b[0;31m           \u001b[0;32mreturn\u001b[0m \u001b[0mconverted_call\u001b[0m\u001b[0;34m(\u001b[0m\u001b[0mf\u001b[0m\u001b[0;34m,\u001b[0m \u001b[0margs\u001b[0m\u001b[0;34m,\u001b[0m \u001b[0mkwargs\u001b[0m\u001b[0;34m,\u001b[0m \u001b[0moptions\u001b[0m\u001b[0;34m=\u001b[0m\u001b[0moptions\u001b[0m\u001b[0;34m)\u001b[0m\u001b[0;34m\u001b[0m\u001b[0;34m\u001b[0m\u001b[0m\n\u001b[0m\u001b[1;32m    690\u001b[0m       \u001b[0;32mexcept\u001b[0m \u001b[0mException\u001b[0m \u001b[0;32mas\u001b[0m \u001b[0me\u001b[0m\u001b[0;34m:\u001b[0m  \u001b[0;31m# pylint:disable=broad-except\u001b[0m\u001b[0;34m\u001b[0m\u001b[0;34m\u001b[0m\u001b[0m\n\u001b[1;32m    691\u001b[0m         \u001b[0;32mif\u001b[0m \u001b[0mhasattr\u001b[0m\u001b[0;34m(\u001b[0m\u001b[0me\u001b[0m\u001b[0;34m,\u001b[0m \u001b[0;34m'ag_error_metadata'\u001b[0m\u001b[0;34m)\u001b[0m\u001b[0;34m:\u001b[0m\u001b[0;34m\u001b[0m\u001b[0;34m\u001b[0m\u001b[0m\n",
            "\u001b[0;32m/usr/local/lib/python3.7/dist-packages/tensorflow/python/autograph/impl/api.py\u001b[0m in \u001b[0;36mconverted_call\u001b[0;34m(f, args, kwargs, caller_fn_scope, options)\u001b[0m\n\u001b[1;32m    375\u001b[0m \u001b[0;34m\u001b[0m\u001b[0m\n\u001b[1;32m    376\u001b[0m   \u001b[0;32mif\u001b[0m \u001b[0;32mnot\u001b[0m \u001b[0moptions\u001b[0m\u001b[0;34m.\u001b[0m\u001b[0muser_requested\u001b[0m \u001b[0;32mand\u001b[0m \u001b[0mconversion\u001b[0m\u001b[0;34m.\u001b[0m\u001b[0mis_allowlisted\u001b[0m\u001b[0;34m(\u001b[0m\u001b[0mf\u001b[0m\u001b[0;34m)\u001b[0m\u001b[0;34m:\u001b[0m\u001b[0;34m\u001b[0m\u001b[0;34m\u001b[0m\u001b[0m\n\u001b[0;32m--> 377\u001b[0;31m     \u001b[0;32mreturn\u001b[0m \u001b[0m_call_unconverted\u001b[0m\u001b[0;34m(\u001b[0m\u001b[0mf\u001b[0m\u001b[0;34m,\u001b[0m \u001b[0margs\u001b[0m\u001b[0;34m,\u001b[0m \u001b[0mkwargs\u001b[0m\u001b[0;34m,\u001b[0m \u001b[0moptions\u001b[0m\u001b[0;34m)\u001b[0m\u001b[0;34m\u001b[0m\u001b[0;34m\u001b[0m\u001b[0m\n\u001b[0m\u001b[1;32m    378\u001b[0m \u001b[0;34m\u001b[0m\u001b[0m\n\u001b[1;32m    379\u001b[0m   \u001b[0;31m# internal_convert_user_code is for example turned off when issuing a dynamic\u001b[0m\u001b[0;34m\u001b[0m\u001b[0;34m\u001b[0m\u001b[0;34m\u001b[0m\u001b[0m\n",
            "\u001b[0;32m/usr/local/lib/python3.7/dist-packages/tensorflow/python/autograph/impl/api.py\u001b[0m in \u001b[0;36m_call_unconverted\u001b[0;34m(f, args, kwargs, options, update_cache)\u001b[0m\n\u001b[1;32m    456\u001b[0m \u001b[0;34m\u001b[0m\u001b[0m\n\u001b[1;32m    457\u001b[0m   \u001b[0;32mif\u001b[0m \u001b[0mkwargs\u001b[0m \u001b[0;32mis\u001b[0m \u001b[0;32mnot\u001b[0m \u001b[0;32mNone\u001b[0m\u001b[0;34m:\u001b[0m\u001b[0;34m\u001b[0m\u001b[0;34m\u001b[0m\u001b[0m\n\u001b[0;32m--> 458\u001b[0;31m     \u001b[0;32mreturn\u001b[0m \u001b[0mf\u001b[0m\u001b[0;34m(\u001b[0m\u001b[0;34m*\u001b[0m\u001b[0margs\u001b[0m\u001b[0;34m,\u001b[0m \u001b[0;34m**\u001b[0m\u001b[0mkwargs\u001b[0m\u001b[0;34m)\u001b[0m\u001b[0;34m\u001b[0m\u001b[0;34m\u001b[0m\u001b[0m\n\u001b[0m\u001b[1;32m    459\u001b[0m   \u001b[0;32mreturn\u001b[0m \u001b[0mf\u001b[0m\u001b[0;34m(\u001b[0m\u001b[0;34m*\u001b[0m\u001b[0margs\u001b[0m\u001b[0;34m)\u001b[0m\u001b[0;34m\u001b[0m\u001b[0;34m\u001b[0m\u001b[0m\n\u001b[1;32m    460\u001b[0m \u001b[0;34m\u001b[0m\u001b[0m\n",
            "\u001b[0;32m/usr/local/lib/python3.7/dist-packages/keras/engine/data_adapter.py\u001b[0m in \u001b[0;36mslice_batch_indices\u001b[0;34m(indices)\u001b[0m\n\u001b[1;32m    313\u001b[0m           first_k_indices, [num_full_batches, batch_size])\n\u001b[1;32m    314\u001b[0m \u001b[0;34m\u001b[0m\u001b[0m\n\u001b[0;32m--> 315\u001b[0;31m       \u001b[0mflat_dataset\u001b[0m \u001b[0;34m=\u001b[0m \u001b[0mtf\u001b[0m\u001b[0;34m.\u001b[0m\u001b[0mdata\u001b[0m\u001b[0;34m.\u001b[0m\u001b[0mDataset\u001b[0m\u001b[0;34m.\u001b[0m\u001b[0mfrom_tensor_slices\u001b[0m\u001b[0;34m(\u001b[0m\u001b[0mfirst_k_indices\u001b[0m\u001b[0;34m)\u001b[0m\u001b[0;34m\u001b[0m\u001b[0;34m\u001b[0m\u001b[0m\n\u001b[0m\u001b[1;32m    316\u001b[0m       \u001b[0;32mif\u001b[0m \u001b[0mself\u001b[0m\u001b[0;34m.\u001b[0m\u001b[0m_partial_batch_size\u001b[0m\u001b[0;34m:\u001b[0m\u001b[0;34m\u001b[0m\u001b[0;34m\u001b[0m\u001b[0m\n\u001b[1;32m    317\u001b[0m         index_remainder = tf.data.Dataset.from_tensors(tf.slice(\n",
            "\u001b[0;32m/usr/local/lib/python3.7/dist-packages/tensorflow/python/data/ops/dataset_ops.py\u001b[0m in \u001b[0;36mfrom_tensor_slices\u001b[0;34m(tensors, name)\u001b[0m\n\u001b[1;32m    791\u001b[0m       \u001b[0mDataset\u001b[0m\u001b[0;34m:\u001b[0m \u001b[0mA\u001b[0m\u001b[0;31m \u001b[0m\u001b[0;31m`\u001b[0m\u001b[0mDataset\u001b[0m\u001b[0;31m`\u001b[0m\u001b[0;34m.\u001b[0m\u001b[0;34m\u001b[0m\u001b[0;34m\u001b[0m\u001b[0m\n\u001b[1;32m    792\u001b[0m     \"\"\"\n\u001b[0;32m--> 793\u001b[0;31m     \u001b[0;32mreturn\u001b[0m \u001b[0mTensorSliceDataset\u001b[0m\u001b[0;34m(\u001b[0m\u001b[0mtensors\u001b[0m\u001b[0;34m,\u001b[0m \u001b[0mname\u001b[0m\u001b[0;34m=\u001b[0m\u001b[0mname\u001b[0m\u001b[0;34m)\u001b[0m\u001b[0;34m\u001b[0m\u001b[0;34m\u001b[0m\u001b[0m\n\u001b[0m\u001b[1;32m    794\u001b[0m \u001b[0;34m\u001b[0m\u001b[0m\n\u001b[1;32m    795\u001b[0m   \u001b[0;32mclass\u001b[0m \u001b[0m_GeneratorState\u001b[0m\u001b[0;34m(\u001b[0m\u001b[0mobject\u001b[0m\u001b[0;34m)\u001b[0m\u001b[0;34m:\u001b[0m\u001b[0;34m\u001b[0m\u001b[0;34m\u001b[0m\u001b[0m\n",
            "\u001b[0;32m/usr/local/lib/python3.7/dist-packages/tensorflow/python/data/ops/dataset_ops.py\u001b[0m in \u001b[0;36m__init__\u001b[0;34m(self, element, is_files, name)\u001b[0m\n\u001b[1;32m   4497\u001b[0m         \u001b[0moutput_shapes\u001b[0m\u001b[0;34m=\u001b[0m\u001b[0mstructure\u001b[0m\u001b[0;34m.\u001b[0m\u001b[0mget_flat_tensor_shapes\u001b[0m\u001b[0;34m(\u001b[0m\u001b[0mself\u001b[0m\u001b[0;34m.\u001b[0m\u001b[0m_structure\u001b[0m\u001b[0;34m)\u001b[0m\u001b[0;34m,\u001b[0m\u001b[0;34m\u001b[0m\u001b[0;34m\u001b[0m\u001b[0m\n\u001b[1;32m   4498\u001b[0m         \u001b[0mis_files\u001b[0m\u001b[0;34m=\u001b[0m\u001b[0mis_files\u001b[0m\u001b[0;34m,\u001b[0m\u001b[0;34m\u001b[0m\u001b[0;34m\u001b[0m\u001b[0m\n\u001b[0;32m-> 4499\u001b[0;31m         metadata=self._metadata.SerializeToString())\n\u001b[0m\u001b[1;32m   4500\u001b[0m     \u001b[0msuper\u001b[0m\u001b[0;34m(\u001b[0m\u001b[0mTensorSliceDataset\u001b[0m\u001b[0;34m,\u001b[0m \u001b[0mself\u001b[0m\u001b[0;34m)\u001b[0m\u001b[0;34m.\u001b[0m\u001b[0m__init__\u001b[0m\u001b[0;34m(\u001b[0m\u001b[0mvariant_tensor\u001b[0m\u001b[0;34m)\u001b[0m\u001b[0;34m\u001b[0m\u001b[0;34m\u001b[0m\u001b[0m\n\u001b[1;32m   4501\u001b[0m \u001b[0;34m\u001b[0m\u001b[0m\n",
            "\u001b[0;32m/usr/local/lib/python3.7/dist-packages/tensorflow/python/ops/gen_dataset_ops.py\u001b[0m in \u001b[0;36mtensor_slice_dataset\u001b[0;34m(components, output_shapes, is_files, metadata, name)\u001b[0m\n\u001b[1;32m   7557\u001b[0m         \u001b[0;34m\"TensorSliceDataset\"\u001b[0m\u001b[0;34m,\u001b[0m \u001b[0mcomponents\u001b[0m\u001b[0;34m=\u001b[0m\u001b[0mcomponents\u001b[0m\u001b[0;34m,\u001b[0m\u001b[0;34m\u001b[0m\u001b[0;34m\u001b[0m\u001b[0m\n\u001b[1;32m   7558\u001b[0m                               \u001b[0moutput_shapes\u001b[0m\u001b[0;34m=\u001b[0m\u001b[0moutput_shapes\u001b[0m\u001b[0;34m,\u001b[0m \u001b[0mis_files\u001b[0m\u001b[0;34m=\u001b[0m\u001b[0mis_files\u001b[0m\u001b[0;34m,\u001b[0m\u001b[0;34m\u001b[0m\u001b[0;34m\u001b[0m\u001b[0m\n\u001b[0;32m-> 7559\u001b[0;31m                               metadata=metadata, name=name)\n\u001b[0m\u001b[1;32m   7560\u001b[0m   \u001b[0m_result\u001b[0m \u001b[0;34m=\u001b[0m \u001b[0m_outputs\u001b[0m\u001b[0;34m[\u001b[0m\u001b[0;34m:\u001b[0m\u001b[0;34m]\u001b[0m\u001b[0;34m\u001b[0m\u001b[0;34m\u001b[0m\u001b[0m\n\u001b[1;32m   7561\u001b[0m   \u001b[0;32mif\u001b[0m \u001b[0m_execute\u001b[0m\u001b[0;34m.\u001b[0m\u001b[0mmust_record_gradient\u001b[0m\u001b[0;34m(\u001b[0m\u001b[0;34m)\u001b[0m\u001b[0;34m:\u001b[0m\u001b[0;34m\u001b[0m\u001b[0;34m\u001b[0m\u001b[0m\n",
            "\u001b[0;32m/usr/local/lib/python3.7/dist-packages/tensorflow/python/framework/op_def_library.py\u001b[0m in \u001b[0;36m_apply_op_helper\u001b[0;34m(op_type_name, name, **keywords)\u001b[0m\n\u001b[1;32m    740\u001b[0m       op = g._create_op_internal(op_type_name, inputs, dtypes=None,\n\u001b[1;32m    741\u001b[0m                                  \u001b[0mname\u001b[0m\u001b[0;34m=\u001b[0m\u001b[0mscope\u001b[0m\u001b[0;34m,\u001b[0m \u001b[0minput_types\u001b[0m\u001b[0;34m=\u001b[0m\u001b[0minput_types\u001b[0m\u001b[0;34m,\u001b[0m\u001b[0;34m\u001b[0m\u001b[0;34m\u001b[0m\u001b[0m\n\u001b[0;32m--> 742\u001b[0;31m                                  attrs=attr_protos, op_def=op_def)\n\u001b[0m\u001b[1;32m    743\u001b[0m \u001b[0;34m\u001b[0m\u001b[0m\n\u001b[1;32m    744\u001b[0m     \u001b[0;31m# `outputs` is returned as a separate return value so that the output\u001b[0m\u001b[0;34m\u001b[0m\u001b[0;34m\u001b[0m\u001b[0;34m\u001b[0m\u001b[0m\n",
            "\u001b[0;32m/usr/local/lib/python3.7/dist-packages/tensorflow/python/framework/func_graph.py\u001b[0m in \u001b[0;36m_create_op_internal\u001b[0;34m(self, op_type, inputs, dtypes, input_types, name, attrs, op_def, compute_device)\u001b[0m\n\u001b[1;32m    693\u001b[0m     return super(FuncGraph, self)._create_op_internal(  # pylint: disable=protected-access\n\u001b[1;32m    694\u001b[0m         \u001b[0mop_type\u001b[0m\u001b[0;34m,\u001b[0m \u001b[0mcaptured_inputs\u001b[0m\u001b[0;34m,\u001b[0m \u001b[0mdtypes\u001b[0m\u001b[0;34m,\u001b[0m \u001b[0minput_types\u001b[0m\u001b[0;34m,\u001b[0m \u001b[0mname\u001b[0m\u001b[0;34m,\u001b[0m \u001b[0mattrs\u001b[0m\u001b[0;34m,\u001b[0m \u001b[0mop_def\u001b[0m\u001b[0;34m,\u001b[0m\u001b[0;34m\u001b[0m\u001b[0;34m\u001b[0m\u001b[0m\n\u001b[0;32m--> 695\u001b[0;31m         compute_device)\n\u001b[0m\u001b[1;32m    696\u001b[0m \u001b[0;34m\u001b[0m\u001b[0m\n\u001b[1;32m    697\u001b[0m   \u001b[0;32mdef\u001b[0m \u001b[0mcapture\u001b[0m\u001b[0;34m(\u001b[0m\u001b[0mself\u001b[0m\u001b[0;34m,\u001b[0m \u001b[0mtensor\u001b[0m\u001b[0;34m,\u001b[0m \u001b[0mname\u001b[0m\u001b[0;34m=\u001b[0m\u001b[0;32mNone\u001b[0m\u001b[0;34m,\u001b[0m \u001b[0mshape\u001b[0m\u001b[0;34m=\u001b[0m\u001b[0;32mNone\u001b[0m\u001b[0;34m)\u001b[0m\u001b[0;34m:\u001b[0m\u001b[0;34m\u001b[0m\u001b[0;34m\u001b[0m\u001b[0m\n",
            "\u001b[0;32m/usr/local/lib/python3.7/dist-packages/tensorflow/python/framework/ops.py\u001b[0m in \u001b[0;36m_create_op_internal\u001b[0;34m(self, op_type, inputs, dtypes, input_types, name, attrs, op_def, compute_device)\u001b[0m\n\u001b[1;32m   3782\u001b[0m           \u001b[0minput_types\u001b[0m\u001b[0;34m=\u001b[0m\u001b[0minput_types\u001b[0m\u001b[0;34m,\u001b[0m\u001b[0;34m\u001b[0m\u001b[0;34m\u001b[0m\u001b[0m\n\u001b[1;32m   3783\u001b[0m           \u001b[0moriginal_op\u001b[0m\u001b[0;34m=\u001b[0m\u001b[0mself\u001b[0m\u001b[0;34m.\u001b[0m\u001b[0m_default_original_op\u001b[0m\u001b[0;34m,\u001b[0m\u001b[0;34m\u001b[0m\u001b[0;34m\u001b[0m\u001b[0m\n\u001b[0;32m-> 3784\u001b[0;31m           op_def=op_def)\n\u001b[0m\u001b[1;32m   3785\u001b[0m       \u001b[0mself\u001b[0m\u001b[0;34m.\u001b[0m\u001b[0m_create_op_helper\u001b[0m\u001b[0;34m(\u001b[0m\u001b[0mret\u001b[0m\u001b[0;34m,\u001b[0m \u001b[0mcompute_device\u001b[0m\u001b[0;34m=\u001b[0m\u001b[0mcompute_device\u001b[0m\u001b[0;34m)\u001b[0m\u001b[0;34m\u001b[0m\u001b[0;34m\u001b[0m\u001b[0m\n\u001b[1;32m   3786\u001b[0m     \u001b[0;32mreturn\u001b[0m \u001b[0mret\u001b[0m\u001b[0;34m\u001b[0m\u001b[0;34m\u001b[0m\u001b[0m\n",
            "\u001b[0;32m/usr/local/lib/python3.7/dist-packages/tensorflow/python/framework/ops.py\u001b[0m in \u001b[0;36m__init__\u001b[0;34m(self, node_def, g, inputs, output_types, control_inputs, input_types, original_op, op_def)\u001b[0m\n\u001b[1;32m   2170\u001b[0m         \u001b[0mop_def\u001b[0m \u001b[0;34m=\u001b[0m \u001b[0mself\u001b[0m\u001b[0;34m.\u001b[0m\u001b[0m_graph\u001b[0m\u001b[0;34m.\u001b[0m\u001b[0m_get_op_def\u001b[0m\u001b[0;34m(\u001b[0m\u001b[0mnode_def\u001b[0m\u001b[0;34m.\u001b[0m\u001b[0mop\u001b[0m\u001b[0;34m)\u001b[0m\u001b[0;34m\u001b[0m\u001b[0;34m\u001b[0m\u001b[0m\n\u001b[1;32m   2171\u001b[0m       self._c_op = _create_c_op(self._graph, node_def, inputs,\n\u001b[0;32m-> 2172\u001b[0;31m                                 control_input_ops, op_def)\n\u001b[0m\u001b[1;32m   2173\u001b[0m       \u001b[0mname\u001b[0m \u001b[0;34m=\u001b[0m \u001b[0mcompat\u001b[0m\u001b[0;34m.\u001b[0m\u001b[0mas_str\u001b[0m\u001b[0;34m(\u001b[0m\u001b[0mnode_def\u001b[0m\u001b[0;34m.\u001b[0m\u001b[0mname\u001b[0m\u001b[0;34m)\u001b[0m\u001b[0;34m\u001b[0m\u001b[0;34m\u001b[0m\u001b[0m\n\u001b[1;32m   2174\u001b[0m \u001b[0;34m\u001b[0m\u001b[0m\n",
            "\u001b[0;32m/usr/local/lib/python3.7/dist-packages/tensorflow/python/util/traceback_utils.py\u001b[0m in \u001b[0;36merror_handler\u001b[0;34m(*args, **kwargs)\u001b[0m\n\u001b[1;32m    148\u001b[0m     \u001b[0mfiltered_tb\u001b[0m \u001b[0;34m=\u001b[0m \u001b[0;32mNone\u001b[0m\u001b[0;34m\u001b[0m\u001b[0;34m\u001b[0m\u001b[0m\n\u001b[1;32m    149\u001b[0m     \u001b[0;32mtry\u001b[0m\u001b[0;34m:\u001b[0m\u001b[0;34m\u001b[0m\u001b[0;34m\u001b[0m\u001b[0m\n\u001b[0;32m--> 150\u001b[0;31m       \u001b[0;32mreturn\u001b[0m \u001b[0mfn\u001b[0m\u001b[0;34m(\u001b[0m\u001b[0;34m*\u001b[0m\u001b[0margs\u001b[0m\u001b[0;34m,\u001b[0m \u001b[0;34m**\u001b[0m\u001b[0mkwargs\u001b[0m\u001b[0;34m)\u001b[0m\u001b[0;34m\u001b[0m\u001b[0;34m\u001b[0m\u001b[0m\n\u001b[0m\u001b[1;32m    151\u001b[0m     \u001b[0;32mexcept\u001b[0m \u001b[0mException\u001b[0m \u001b[0;32mas\u001b[0m \u001b[0me\u001b[0m\u001b[0;34m:\u001b[0m\u001b[0;34m\u001b[0m\u001b[0;34m\u001b[0m\u001b[0m\n\u001b[1;32m    152\u001b[0m       \u001b[0mfiltered_tb\u001b[0m \u001b[0;34m=\u001b[0m \u001b[0m_process_traceback_frames\u001b[0m\u001b[0;34m(\u001b[0m\u001b[0me\u001b[0m\u001b[0;34m.\u001b[0m\u001b[0m__traceback__\u001b[0m\u001b[0;34m)\u001b[0m\u001b[0;34m\u001b[0m\u001b[0;34m\u001b[0m\u001b[0m\n",
            "\u001b[0;32m/usr/local/lib/python3.7/dist-packages/tensorflow/python/framework/ops.py\u001b[0m in \u001b[0;36m_create_c_op\u001b[0;34m(graph, node_def, inputs, control_inputs, op_def)\u001b[0m\n\u001b[1;32m   2001\u001b[0m   \u001b[0;31m# Add attrs\u001b[0m\u001b[0;34m\u001b[0m\u001b[0;34m\u001b[0m\u001b[0;34m\u001b[0m\u001b[0m\n\u001b[1;32m   2002\u001b[0m   \u001b[0;32mfor\u001b[0m \u001b[0mname\u001b[0m\u001b[0;34m,\u001b[0m \u001b[0mattr_value\u001b[0m \u001b[0;32min\u001b[0m \u001b[0mnode_def\u001b[0m\u001b[0;34m.\u001b[0m\u001b[0mattr\u001b[0m\u001b[0;34m.\u001b[0m\u001b[0mitems\u001b[0m\u001b[0;34m(\u001b[0m\u001b[0;34m)\u001b[0m\u001b[0;34m:\u001b[0m\u001b[0;34m\u001b[0m\u001b[0;34m\u001b[0m\u001b[0m\n\u001b[0;32m-> 2003\u001b[0;31m     \u001b[0mserialized\u001b[0m \u001b[0;34m=\u001b[0m \u001b[0mattr_value\u001b[0m\u001b[0;34m.\u001b[0m\u001b[0mSerializeToString\u001b[0m\u001b[0;34m(\u001b[0m\u001b[0;34m)\u001b[0m\u001b[0;34m\u001b[0m\u001b[0;34m\u001b[0m\u001b[0m\n\u001b[0m\u001b[1;32m   2004\u001b[0m     \u001b[0;31m# TODO(skyewm): this creates and deletes a new TF_Status for every attr.\u001b[0m\u001b[0;34m\u001b[0m\u001b[0;34m\u001b[0m\u001b[0;34m\u001b[0m\u001b[0m\n\u001b[1;32m   2005\u001b[0m     \u001b[0;31m# It might be worth creating a convenient way to re-use the same status.\u001b[0m\u001b[0;34m\u001b[0m\u001b[0;34m\u001b[0m\u001b[0;34m\u001b[0m\u001b[0m\n",
            "\u001b[0;31mKeyboardInterrupt\u001b[0m: "
          ]
        }
      ]
    },
    {
      "cell_type": "code",
      "source": [
        "print(gen_smiles)"
      ],
      "metadata": {
        "colab": {
          "base_uri": "https://localhost:8080/"
        },
        "id": "fqF-R4OIekLC",
        "outputId": "2d66ab6a-3492-4679-8093-eb668be64190"
      },
      "execution_count": null,
      "outputs": [
        {
          "output_type": "stream",
          "name": "stdout",
          "text": [
            "['CN1C2CCC1C1CCC3(c4cccc(c4[N+](=O)[O-])CCN3CC3CC[SH](C(=O)O)CC3)N21', 'COC1C2OCC1CCCCNC12COC1C(O)=NC(=C)c2cccc([N+](=O)[O-])c2N=C3C(Cl)C3', 'NC1(CCC2COC3CCCC32Cc2c(O)[nH][n+](=CC3=C2CCC3)cc(F)cn1)[C@H]1OCON1', 'NC1CN(C2=CCC3NC3c3cc(Cc4c[nH]nn4)c(O)cc3C(=O)NC2=O)C1C(C)(Cl)Cl', 'CNC1CC2=CC=CCC1C2-c1c2cc(C(F)(F)F)[nH]c2c(-c2ccc(C(NF)C(C)CO)s2)[nH]1', 'CC1C2CN(C)C(N3CC(Cl)CC3=CC(F)(F)C(=O)CC(=O)C2(N)c2ccccc2)c2ccccc21', 'CC1CC(=O)n2nc(C3CCCC(C)(O)CC(OS(C)(=O)=O)CC3NC=O)CC3(COCc4ccccc43)C(=O)N21', 'CC1CC2N(C)CCCNCCC(NC(=O)COC3CC(C(=O)O)C(=O)N4C3CCC4=O)C(c3ccccc3)N21', 'O=C1C2CCC1C(OC(=S)Sc1cccc3cc(Cl)cc(Cl)c13)C(=Cc1ccnnn1)O2', 'O=C1C2CCC3(C=C(S)OCc4ccccc43)C(=O)NS(=O)(=O)N1c1nnc-2ON1CCC(F)(F)F', 'CC1CCC(N)C2c3ccc(C(O)(Cc4cccc(F)c4)nc3NC=C2C(=O)c2ccc(F)cc2Cl)C1OC(F)F', 'CC1C(C)(C)C2Cc3cc(OS(C)(=O)=O)ccc3c(=O)cc2-c2nccc([n+](c3ccccc3S=O)C2F)C(O)C1=O', 'CNC1(CC=O)C2CC=CCC(C2)NC2C3(C(=O)Nc4ccc(OC)cc4Cl)CC3=C1CCC2N(C)C(=O)Cc1cc(N)cc(C(N)=O)c1-c1cn[n+]1', 'CONC(=O)C1C2CNCN(Nc3ccc(NC(=O)N4CCC5C(C)CC5=CC(=O)Nc5cc(C(F)(C#C)CC(=O)O)n[nH]4)CC=CC5(C)CC32)C1', 'CON1C(CC2c3cnnc(c3)N2C)CNC(=O)C2CCC(C)C2CCCC(NC(=O)c2cnc(O)c(C(C)=O)c2)CC2(C(=O)NO)C=C2NC=C1C', 'CC(C)CC1N(CCF)c2ccc(c(O)n2)N1C(=O)COC1CC(O)(Cc2nccs2)N2C(=O)N(CC3=CC=CN3CC23)C(O)C3(C=O)O1', 'CC(C)CC1N(CCNCc2cccc(O)c2)C(=O)N2C(=CNO1)C=CC=C(C#N)C=NCc1cc(C3CCCNCC3)cc(Cl)cc1=NC2=NOCO', 'CC(C)CC1(NSCc2ccccc2)cc2c(F)c(C(=O)N3CCOC(CF)C3)c(O)c2CC2CC=CNCc3ccc([nH]1)CC3OC(=O)N2', 'NC1=C(Cl)OC2=NC(=C3C=CC(C4=CC=C(C(=O)NO)SC(=O)N=C3)CCC42)C1c1ccccc1', 'NC1=C(Cl)C(O)C2(CC3=CC=CC2C(=O)NC=C(Cl)C=C3)C=C(Cl)CCC=C1Cc1cc(F)cnc1', 'CNC(=O)C1COC2(C)C=C3CC(C)=CC3C3(C(=O)NCCC[S@H](C=O)=CC3)CCNC1C2C', 'COC1CNC(=O)NC2CC(OC2OC(=O)NC2CCC(F)(CCC(=O)N3)CN(C(=O)OC)C32)C1c1ccccc1', 'O=C1N(C[S+](=O)NC2c3ccccc3-c3ccc(S(=O)(=O)C(n4ccc5ccccc5O4)C2)C3)c2ccccc21', 'O=S1([OH])S(C)(Cc2ccc3ccccc3c2)CC=C(S(=O)(=O)C2(c3ccccc3)CC2O)C1Cc1cncs1', 'O=N[N+]1(CNS(=O)(=O)c2cc3ccccc3c(c2)S(=O)(=O)C(=O)N2c3ccccc3)OC2c2ccccc2CC1', 'CC(=O)NCC1(Oc2ccccc2NCCc2cccs2)N=CC(=O)NCCC(C(C)NO)OC2=NOC3(COC(=O)NCCCC3O)CC1N2', 'CC(C)=C1c2ccc3cc2CCNCc2ccccc2NC(=O)C(NC(CNC(=O)OC2CCCNC(=O)C(N)=O)c2)CC3CCCC1CC', 'CC(=O)NC1Cc2ccccc2C2n3c4cccc(n4)NCCN(CC(=O)NC=CC=CC=C4CC4C(=O)N=CC4=CCCC4F)C3CCC21', 'CC12Cc3ccccc3C(=[N+]2C)S(=O)(=O)CC2C3=CC=CC(C(=O)N4CCN(Cc5cnc(F)nc5)N4)N3CCC12', 'O=Cc1ccc(OS(=O)(=O)c2ccc(F)cc2C2CN(C(=O)Oc3ccc(F)c(Cl)c3N)c3cc(C(F)(F)F)ccc3OC2F)cc1F', 'O=C1CC2=CC=C=C(N=C2C=NN(CSCC(OC(F)(F)F)CC2=CF)C2=O)C1', 'O=C1NC2=C(O)C(NCF)ON3C(Cl)=CC=CSCC(O)C3(Cl)CC(=C2)O1', 'O=C1OCC2=CC=C(Nc3c(F)nn(C=C4CCC(F)(F)C5=CC=C54)c31)O2', 'O=C1OCC2=C(F)C(F)=C3C(CS(=O)(=O)CC=CC=C32)C1', 'O=C1C2C3=C[SH](Cl)=CCN=CCN3CC=CC(=C2)N(OCCCl)CC1O', 'Nc1ccc(C(=O)OC2(CCN(c3ccc(C(=O)O)cn3)Cc3ccc([N+](=O)[O-])c(Cl)c3)N=C2Cl)CC(=O)O1', 'N#Cc1cnc(COC2=CC(=Cc3c(F)cc(N4Cc5cc(F)ccc5F)c(C(F)(F)C(=O)O)c4CC=C4S(=O)(=O)C43)c2)s1', 'Nc1ccc(C2OC3C=C(Cc4c(O)nc(Br)cc4OCC(F)C2=O)N=C3C2(N)C=CC(=O)N2COC(=O)COCO)nn1', 'NC1CCC2=C(F)CN1C1C=CC(CC(F)F)C1OCC(O)CN(c1cccc([N+](=O)[O-])c1)C2Oc1cc(Cl)cc(F)c1CNC(F)F', 'CC1(C(=O)O)N=C(c2ccc(O)cc2F)c2[n+](c1)C1OCOC1Oc1nc3c(c21)CN1C(O)C(OC1=O)CC3(C)C', 'CC(C)(C(OP(=O)([O-])N1OOP1(O)=O)C1(C(F)F)N2COC3=C2OC(O)(CO)C(F)(F)C1=CC=C3)c1cc(F)cnc1', 'CCN(C)C(OP(=O)N1NOP1)OC(OP1(=O)N2C3C=CN=C3OCOC3C(C=C1)C[SH](C#N)=C2)OC(=O)NCC#CCC3', 'CN(CCC1(Cc2ccc3cccnc2n3)CCCCCC2C3=C(OCC(C)(F)C(=O)NCCOCO)SCC3C1CCCCC2)NC(C)Cc1ccc(I)cc1F', 'CN(CC1(CC2c3ccccc3CCCCC(F)(F)C2=O)C2CC(O)(CCCCCN3CCC(O)C(CO)C3)CC12)C(=O)NCCCc1ccc(F)c(F)c1', 'O=C(Nc1cc(F)cc(N)c1)SC', 'O=C(Nc1ccc(O)c(F)c1N(CF)C1CNC(=O)Cc2cccc(CF)c21)N1OCc2ccc([nH]c2=O)c(=O)cc1NOC(Cl)CC(F)F', 'O=C(Nc1c(N)cnc(F)c1F)C(=O)CC1(CF)Oc2cc(Cl)cc([N+](=O)[O-])c2N=C1Cc1cc[n+]([O-])nc1', 'O=C(c1cc(F)cc(N)c1C(F)(F)F)c1c(Cl)cc(-c2cc[n+]([O-])cc2)c(F)c1-c1ccc([N+](=O)[O-])cn1', 'N=C(C=C1NOP(=O)(c2cnc(N3C=CC(F)C3)cc2)NC(=O)CO1)c1cc(-c2ccc(F)c(F)c2F)ccc1C', 'COC1c2cnc([NH]O)C(CC3=CC=CC3)OC3=CC(=O)NCC34C=CCCC4=C2CCCC(=O)N(Cc2ccncc2Cl)C1=O', 'N#Cc1ccc2[nH]cc(OC)nc2N=NS(C)(=O)(Cc2ccncc2NC(=O)C2CCC(C(=O)O)CC(=O)NC2=O)c2cccc(I)c21', 'CNC1CCN2Oc3ccc(Cl)c(Cl)c3N(C(C(F)F)S(=O)(=O)C3=COC(OCc4ccc(F)c(F)c4)N=C3C(Cl)C=C12)C(F)F', 'CNC1CCc2[nH]ccc2OC1(CNF)N(C(=O)O)S(=O)(=O)CC(O)(Cc1ccc(F)c(F)c1)c1ccc(Cl)cc1CO', 'CNC1COc2c(c(O)cc(N)c3C(C)(NC(=O)OS(C)(=O)=O)C(=Cc4ccc(F)c(F)c4F)C(=CC3=O)C(F)C2=O)N1C', 'CCN1CCc2c(Br)cc(C)nc2CN(S(=O)(=O)C(N)=O)C(=O)C(=Cc2ccc(O)c(F)c2)C(=O)N2COC3C(F)C(=C23)O1', 'CNC1CC2(C)CCCSC(C2c2ccc(C(=O)NC(=O)N3CCC(C(=O)O)CC3)c(F)c2)CC2CC21', 'CNC12CCn3nc(CC(C)(Cc4ccccn4)SC(F)(CC)CC3C(=O)Nc3ccc(C4CC(OCF)CC4)cc3F)cc2CC1', 'CNC1CC2(CCCC(NC(Oc3ccc(C4=NCCN(C(=O)OC)CC4)cn3)C(=O)O)CCC2)COCOC1C', 'COC(OC)n1c(C2CCCCCCNCCCN(CSC(CSCCP(=O)(O)OO)c3ccccc3)C2=O)c[nH]1', 'Cc1cnc(C(=O)NC(CCCCCSCCCSSC(S)C(=O)O)NOc2sc[n+](C)c2)c2cccc(Cl)c21', 'CN1C=CC2NC(CC=CCCCCN(CCSC(=S)C3(F)C(=O)c4ccccc4-c4ccc(F)cc4Cl)C3)NON1N2', 'CCN1C(=O)C=CC2(C(=O)Nc3ccccn3)OCN(CC(O)SS)C2=C1C#Cc1cc[nH]n1', 'CC(CNO)CC1(O)C(NCCc2cccc(F)c2)S(=O)(=O)N2CCN(C(F)(CO)C2)O1', 'CCN1C(C)CC=CC2=C(Nc3ccccc3)c(C(=N)N=C2N)c2c(O)cnn[n+]1c2C=NOC', 'CCN1C(=O)CC2(C=C)Sc3ccccc3-c3cc(C(N)=O)nc(=O)cc3NC=CN(C)C2=C1Cl', 'O=C(Cc1ccccc1)N1CCC(CF)c2cccc(C(=O)NC3=CN(C(=O)C(F)(CF)C(F)(F)c4cc(Cl)ccc4C(F)(F)F)c23)C1', 'O=C(Cc1ccc2cc1CN(C(O)c1cncc(F)c1)CC(Cl)=C(Cl)Cl)C(=O)N(CC(O)CO)S(=O)(=O)c1cccc(I)c1C2', 'O=C(O)c1cccc2c1NC(=O)C(Br)=C(NC=C1CC[N+](CC[N+](=O)[O-])C=C1SC=C2S)C(=O)c1cc(F)cc(F)c1']\n"
          ]
        }
      ]
    },
    {
      "cell_type": "code",
      "source": [
        "# save the generated smiles list\n",
        "outfile = 'generated_smiles_nextgen_v1.csv'\n",
        "with open(outfile, 'w') as f:\n",
        "    for smi in gen_smiles:\n",
        "        f.write(smi + '\\n')\n",
        "print('SMILES saved')"
      ],
      "metadata": {
        "colab": {
          "base_uri": "https://localhost:8080/"
        },
        "id": "ahgoBhUuGW66",
        "outputId": "c5786a32-4fdf-4485-bbdf-d2745f45d3df"
      },
      "execution_count": null,
      "outputs": [
        {
          "output_type": "stream",
          "name": "stdout",
          "text": [
            "SMILES saved\n"
          ]
        }
      ]
    }
  ]
}